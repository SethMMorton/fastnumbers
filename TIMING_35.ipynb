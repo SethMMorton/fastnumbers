{
 "cells": [
  {
   "cell_type": "markdown",
   "metadata": {},
   "source": [
    "# Timing Tests of `fastnumbers` Functions Compared to Equivalent Solutions\n",
    "\n",
    "In order for you to see the benefit of `fastnumbers`, some timings are collected below for comparison to equivalent python implementations. The numbers may change depending on the machine you are on or the Python version you are using.\n",
    "\n",
    "Feel free to download this Jupyter Notebook and run the tests yourself to see how `fastnumbers` performs on your machine (it takes about 1-2 minutes total).\n",
    "\n",
    "**This notebook contains timing results for Python 3.5.**\n",
    "\n",
    "#### Some notes about the data\n",
    "\n",
    " - Each test is the time it takes for the function to run 100,000 times on a given input.\n",
    " - Each test is repeated either 5 or 100 times, and the mean ± standard deviation is reported.\n",
    " - The fastest time is shown in **bold**\n",
    " - The timing results for the pure-Python functions include about 10-15 ms of \"function call overhead\"; the `fastnumbers` functions do not suffer from as much overhead because they are C-extensions.\n",
    " - Python version-dependent behaviors:\n",
    "   - **Python 2.7** has a particularly slow `int` function, so the `fastnumbers` speedup is much larger on Python 2.7 than Python 3.x\n",
    "   - **Python >=3.6** is slightly slower in general than previous versions because underscores are now allowed in floats and integers which makes parsing take a bit longer due to the extra logic.\n",
    "   \n",
    "#### Notes about the `Timing` class below\n",
    "\n",
    "The timing runner class is implemented below, and this is used in all the tests to perform the actual timing tests in the sections below. In general you can skip this implementation, but of note is the `THINGS_TO_TIME` tuple, which contains the values that are passed to the functions to type the various input types."
   ]
  },
  {
   "cell_type": "code",
   "execution_count": 1,
   "metadata": {
    "collapsed": true
   },
   "outputs": [],
   "source": [
    "from __future__ import print_function, division\n",
    "import re\n",
    "import math\n",
    "import timeit\n",
    "from IPython.display import Markdown, display, clear_output\n",
    "\n",
    "class Timer(object):\n",
    "    \"\"\"Class to time functions and make pretty tables of the output.\"\"\"\n",
    "    \n",
    "    # This is a list of all the things we will time with an associated label.\n",
    "    THINGS_TO_TIME = (\n",
    "        ('not_a_number', 'Non-number String'),\n",
    "        ('-41053', 'Int String'),\n",
    "        ('35892482945872302493947939485729', 'Large Int String'),\n",
    "        ('-41053.543034e34', 'Float String'),\n",
    "        ('-41053.543028758302e256', 'Large Float String'),\n",
    "        (-41053, 'Int'),\n",
    "        (-41053.543028758302e100, 'Float'),\n",
    "    )\n",
    "\n",
    "    # Formatting strings.\n",
    "    FUNCTION_CALL_FMT = '{}({!r})'\n",
    "    \n",
    "    def __init__(self, title):\n",
    "        display(Markdown('### ' + title))\n",
    "        self.functions = []\n",
    "    \n",
    "    def add_function(self, func, label, setup='pass'):\n",
    "        \"\"\"Add a function to be timed and compared.\"\"\"\n",
    "        self.functions.append((func, setup, label))\n",
    "\n",
    "    def time_functions(self, repeat=5):\n",
    "        \"\"\"Time all the given functions against all input then display results.\"\"\"\n",
    "\n",
    "        # Collect the function labels to make the header of this table.\n",
    "        # Show that the units are seconds for each.\n",
    "        function_labels = [label + ' (ms)' for _, _, label in self.functions]\n",
    "        \n",
    "        # Construct the table strings, formatted in Markdown.\n",
    "        # Store each line as a string element in a list.\n",
    "        # This portion here is the table header only for now.\n",
    "        table = Table()\n",
    "        table.add_header('Input type', *function_labels)\n",
    "        \n",
    "        # For each value, time each function and collect the results.\n",
    "        for value, value_label in self.THINGS_TO_TIME:\n",
    "            row = []\n",
    "            for func, setup, _ in self.functions:\n",
    "                call = self.FUNCTION_CALL_FMT.format(func, value)\n",
    "                try:\n",
    "                    row.append(self._timeit(call, setup, repeat))\n",
    "                except (ValueError, TypeError):\n",
    "                    # We might send in some invalid input accidentally.\n",
    "                    # Ignore those inputs.\n",
    "                    break\n",
    "\n",
    "            # Only add this row if the for loop quit without break.\n",
    "            else:\n",
    "                # Convert to milliseconds\n",
    "                row = [(mean * 1000, stddev * 1000) for mean, stddev in row]\n",
    "                # Make the lowest value bold.\n",
    "                min_indx = min(enumerate(row), key=lambda x: x[1])[0]\n",
    "                row = ['{:.3f} ± {:.3f}'.format(*x) for x in row]\n",
    "                row[min_indx] = self.bold(row[min_indx])\n",
    "                table.add_row(value_label, *row)\n",
    "\n",
    "        # Show the results in a table.\n",
    "        display(Markdown(str(table)))\n",
    "\n",
    "    @staticmethod\n",
    "    def mean(x):\n",
    "        return math.fsum(x) / len(x)\n",
    "\n",
    "    @staticmethod\n",
    "    def stddev(x):\n",
    "        mean = Timer.mean(x)\n",
    "        sum_of_squares = math.fsum((v - mean)**2 for v in x)\n",
    "        return math.sqrt(sum_of_squares / (len(x) - 1))\n",
    "\n",
    "    @staticmethod\n",
    "    def bold(x):\n",
    "        return \"**{}**\".format(x)\n",
    "    \n",
    "    def _timeit(self, call, setup, repeat=5):\n",
    "        \"\"\"Perform the actual timing and return a formatted string of the runtime\"\"\"\n",
    "        result = timeit.repeat(call, setup, number=100000, repeat=repeat)\n",
    "        return self.mean(result), self.stddev(result)\n",
    "\n",
    "class Table(list):\n",
    "    \"\"\"List of strings that can be made into a Markdown table.\"\"\"\n",
    "    def add_row(self, *elements):\n",
    "        self.append('|'.join(elements))\n",
    "    def add_header(self, *elements):\n",
    "        self.add_row(*elements)\n",
    "        seperators = ['---'] * len(elements)\n",
    "        seperators = [sep + (':' if i != 0 else '') for i, sep in enumerate(seperators)]\n",
    "        self.add_row(*seperators)\n",
    "    def __str__(self):\n",
    "        return '\\n'.join(self)\n"
   ]
  },
  {
   "cell_type": "markdown",
   "metadata": {},
   "source": [
    "## Built-in Functions Drop-in Replacement Timing Results\n",
    "The following timing tests compare the performance of Python's builtin `int` and `float` functions against the implementations from `fastnumbers` for various input types."
   ]
  },
  {
   "cell_type": "code",
   "execution_count": 2,
   "metadata": {
    "collapsed": false,
    "scrolled": true
   },
   "outputs": [
    {
     "data": {
      "text/markdown": [
       "### Timing comparison of `int` functions"
      ],
      "text/plain": [
       "<IPython.core.display.Markdown object>"
      ]
     },
     "metadata": {},
     "output_type": "display_data"
    },
    {
     "data": {
      "text/markdown": [
       "Input type|builtin (ms)|fastnumbers (ms)\n",
       "---|---:|---:\n",
       "Int String|31.173 ± 7.549|**22.767 ± 4.883**\n",
       "Large Int String|**34.426 ± 0.486**|37.092 ± 0.886\n",
       "Int|16.283 ± 0.277|**15.039 ± 0.180**\n",
       "Float|34.218 ± 1.100|**32.224 ± 0.803**"
      ],
      "text/plain": [
       "<IPython.core.display.Markdown object>"
      ]
     },
     "metadata": {},
     "output_type": "display_data"
    }
   ],
   "source": [
    "timer = Timer('Timing comparison of `int` functions')\n",
    "timer.add_function('int', 'builtin')\n",
    "timer.add_function('int', 'fastnumbers', 'from fastnumbers import int')\n",
    "timer.time_functions(repeat=100)"
   ]
  },
  {
   "cell_type": "code",
   "execution_count": 3,
   "metadata": {
    "collapsed": false
   },
   "outputs": [
    {
     "data": {
      "text/markdown": [
       "### Timing comparison of `float` functions"
      ],
      "text/plain": [
       "<IPython.core.display.Markdown object>"
      ]
     },
     "metadata": {},
     "output_type": "display_data"
    },
    {
     "data": {
      "text/markdown": [
       "Input type|builtin (ms)|fastnumbers (ms)\n",
       "---|---:|---:\n",
       "Int String|23.550 ± 1.334|**20.505 ± 0.343**\n",
       "Large Int String|**61.162 ± 0.956**|68.381 ± 0.500\n",
       "Float String|53.498 ± 0.558|**23.855 ± 0.506**\n",
       "Large Float String|**95.559 ± 1.966**|99.737 ± 2.932\n",
       "Int|20.829 ± 0.378|**18.607 ± 0.278**\n",
       "Float|16.522 ± 0.599|**14.640 ± 0.335**"
      ],
      "text/plain": [
       "<IPython.core.display.Markdown object>"
      ]
     },
     "metadata": {},
     "output_type": "display_data"
    }
   ],
   "source": [
    "timer = Timer('Timing comparison of `float` functions')\n",
    "timer.add_function('float', 'builtin')\n",
    "timer.add_function('float', 'fastnumbers', 'from fastnumbers import float')\n",
    "timer.time_functions(repeat=100)"
   ]
  },
  {
   "cell_type": "markdown",
   "metadata": {},
   "source": [
    "## Error-Handling Conversion Functions Timing Results\n",
    "The following timing tests compare the performance of the `fastnumbers` functions that convert input to numeric types while doing error handling with common equivalent pure-Python implementations."
   ]
  },
  {
   "cell_type": "code",
   "execution_count": 4,
   "metadata": {
    "collapsed": false
   },
   "outputs": [
    {
     "data": {
      "text/markdown": [
       "### Timing comparison of `int` functions with error handling"
      ],
      "text/plain": [
       "<IPython.core.display.Markdown object>"
      ]
     },
     "metadata": {},
     "output_type": "display_data"
    },
    {
     "data": {
      "text/markdown": [
       "Input type|try/except (ms)|regex (ms)|fastnumbers (ms)\n",
       "---|---:|---:|---:\n",
       "Non-number String|288.953 ± 11.003|62.923 ± 0.655|**17.590 ± 0.291**\n",
       "Int String|41.958 ± 2.448|125.071 ± 3.082|**20.992 ± 0.284**\n",
       "Large Int String|50.749 ± 3.558|168.771 ± 8.450|**35.449 ± 0.149**\n",
       "Float String|306.964 ± 16.437|116.745 ± 40.088|**29.174 ± 3.816**\n",
       "Large Float String|496.780 ± 76.306|136.089 ± 42.081|**24.627 ± 1.028**\n",
       "Int|47.701 ± 8.242|250.216 ± 66.938|**17.003 ± 0.488**\n",
       "Float|52.601 ± 0.602|207.766 ± 2.989|**32.257 ± 0.211**"
      ],
      "text/plain": [
       "<IPython.core.display.Markdown object>"
      ]
     },
     "metadata": {},
     "output_type": "display_data"
    }
   ],
   "source": [
    "def int_re(x, int_match=re.compile(r'[-+]?\\d+$').match):\n",
    "    \"\"\"Function to simulate fast_int but with regular expressions.\"\"\"\n",
    "    try:\n",
    "        if int_match(x):\n",
    "            return int(x)\n",
    "        else:\n",
    "            return x\n",
    "    except TypeError:\n",
    "        return int(x)\n",
    "\n",
    "def int_try(x):\n",
    "    \"\"\"Function to simulate fast_int but with try/except.\"\"\"\n",
    "    try:\n",
    "        return int(x)\n",
    "    except ValueError:\n",
    "        return x\n",
    "\n",
    "timer = Timer('Timing comparison of `int` functions with error handling')\n",
    "timer.add_function('int_try', 'try/except', 'from __main__ import int_try')\n",
    "timer.add_function('int_re', 'regex', 'from __main__ import int_re')\n",
    "timer.add_function('fast_int', 'fastnumbers', 'from fastnumbers import fast_int')\n",
    "timer.time_functions()"
   ]
  },
  {
   "cell_type": "code",
   "execution_count": 5,
   "metadata": {
    "collapsed": false
   },
   "outputs": [
    {
     "data": {
      "text/markdown": [
       "### Timing comparison of `float` functions with error handling"
      ],
      "text/plain": [
       "<IPython.core.display.Markdown object>"
      ]
     },
     "metadata": {},
     "output_type": "display_data"
    },
    {
     "data": {
      "text/markdown": [
       "Input type|try/except (ms)|regex (ms)|fastnumbers (ms)\n",
       "---|---:|---:|---:\n",
       "Non-number String|178.742 ± 7.256|87.526 ± 32.992|**36.051 ± 3.587**\n",
       "Int String|49.331 ± 17.888|150.486 ± 9.448|**24.779 ± 1.303**\n",
       "Large Int String|74.771 ± 0.167|249.204 ± 4.878|**68.867 ± 0.220**\n",
       "Float String|71.650 ± 0.315|238.828 ± 9.485|**24.924 ± 0.365**\n",
       "Large Float String|113.350 ± 0.172|284.262 ± 2.379|**100.305 ± 0.561**\n",
       "Int|33.622 ± 0.292|191.864 ± 1.598|**19.545 ± 0.443**\n",
       "Float|28.978 ± 0.083|180.295 ± 3.578|**15.499 ± 0.164**"
      ],
      "text/plain": [
       "<IPython.core.display.Markdown object>"
      ]
     },
     "metadata": {},
     "output_type": "display_data"
    }
   ],
   "source": [
    "def float_re(x, float_match=re.compile(r'[-+]?\\d*\\.?\\d+(?:[eE][-+]?\\d+)?$').match):\n",
    "    \"\"\"Function to simulate fast_float but with regular expressions.\"\"\"\n",
    "    try:\n",
    "        if float_match(x):\n",
    "            return float(x)\n",
    "        else:\n",
    "            return x\n",
    "    except TypeError:\n",
    "        return float(x)\n",
    "\n",
    "def float_try(x):\n",
    "    \"\"\"Function to simulate fast_float but with try/except.\"\"\"\n",
    "    try:\n",
    "        return float(x)\n",
    "    except ValueError:\n",
    "        return x\n",
    "\n",
    "timer = Timer('Timing comparison of `float` functions with error handling')\n",
    "timer.add_function('float_try', 'try/except', 'from __main__ import float_try')\n",
    "timer.add_function('float_re', 'regex', 'from __main__ import float_re')\n",
    "timer.add_function('fast_float', 'fastnumbers', 'from fastnumbers import fast_float')\n",
    "timer.time_functions()"
   ]
  },
  {
   "cell_type": "code",
   "execution_count": 6,
   "metadata": {
    "collapsed": false
   },
   "outputs": [
    {
     "data": {
      "text/markdown": [
       "### Timing comparison of `float` (but coerce to `int` if possible) functions with error handling"
      ],
      "text/plain": [
       "<IPython.core.display.Markdown object>"
      ]
     },
     "metadata": {},
     "output_type": "display_data"
    },
    {
     "data": {
      "text/markdown": [
       "Input type|try/except (ms)|regex (ms)|fastnumbers (ms)\n",
       "---|---:|---:|---:\n",
       "Non-number String|174.851 ± 5.147|115.465 ± 0.686|**17.841 ± 0.148**\n",
       "Int String|78.967 ± 2.882|121.008 ± 4.961|**21.451 ± 0.117**\n",
       "Large Int String|137.858 ± 1.190|163.006 ± 2.069|**41.724 ± 0.161**\n",
       "Float String|140.989 ± 1.304|300.959 ± 2.534|**39.546 ± 0.466**\n",
       "Large Float String|244.709 ± 2.366|350.735 ± 1.993|**156.153 ± 1.590**\n",
       "Int|68.359 ± 0.224|189.010 ± 4.873|**15.299 ± 0.214**\n",
       "Float|99.410 ± 0.984|178.163 ± 0.429|**77.812 ± 0.419**"
      ],
      "text/plain": [
       "<IPython.core.display.Markdown object>"
      ]
     },
     "metadata": {},
     "output_type": "display_data"
    }
   ],
   "source": [
    "def real_re(x,\n",
    "            int_match=re.compile(r'[-+]?\\d+$').match,\n",
    "            real_match=re.compile(r'[-+]?\\d*\\.?\\d+(?:[eE][-+]?\\d+)?$').match):\n",
    "    \"\"\"Function to simulate fast_real but with regular expressions.\"\"\"\n",
    "    try:\n",
    "        if int_match(x):\n",
    "            return int(x)\n",
    "        elif real_match(x):\n",
    "            return float(x)\n",
    "        else:\n",
    "            return x\n",
    "    except TypeError:\n",
    "        if type(x) in (float, int):\n",
    "            return x\n",
    "        else:\n",
    "            raise TypeError\n",
    "\n",
    "def real_try(x):\n",
    "    \"\"\"Function to simulate fast_real but with try/except.\"\"\"\n",
    "    try:\n",
    "        a = float(x)\n",
    "    except ValueError:\n",
    "        return x\n",
    "    else:\n",
    "        b = int(a)\n",
    "        return b if a == b else b\n",
    "\n",
    "timer = Timer('Timing comparison of `float` (but coerce to `int` if possible) functions with error handling')\n",
    "timer.add_function('real_try', 'try/except', 'from __main__ import real_try')\n",
    "timer.add_function('real_re', 'regex', 'from __main__ import real_re')\n",
    "timer.add_function('fast_real', 'fastnumbers', 'from fastnumbers import fast_real')\n",
    "timer.time_functions()"
   ]
  },
  {
   "cell_type": "code",
   "execution_count": 7,
   "metadata": {
    "collapsed": false
   },
   "outputs": [
    {
     "data": {
      "text/markdown": [
       "### Timing comparison of forced `int` functions with error handling"
      ],
      "text/plain": [
       "<IPython.core.display.Markdown object>"
      ]
     },
     "metadata": {},
     "output_type": "display_data"
    },
    {
     "data": {
      "text/markdown": [
       "Input type|try/except (ms)|regex (ms)|fastnumbers (ms)\n",
       "---|---:|---:|---:\n",
       "Non-number String|496.482 ± 14.481|110.281 ± 2.382|**17.719 ± 0.225**\n",
       "Int String|41.273 ± 1.245|120.893 ± 10.097|**22.044 ± 0.180**\n",
       "Large Int String|48.106 ± 0.454|337.068 ± 1.843|**42.561 ± 0.610**\n",
       "Float String|476.181 ± 12.633|348.336 ± 3.391|**41.828 ± 1.759**\n",
       "Large Float String|552.602 ± 6.333|435.447 ± 11.611|**154.835 ± 0.436**\n",
       "Int|28.982 ± 0.587|175.391 ± 3.312|**14.987 ± 0.092**\n",
       "Float|46.557 ± 0.096|207.017 ± 0.876|**33.202 ± 1.095**"
      ],
      "text/plain": [
       "<IPython.core.display.Markdown object>"
      ]
     },
     "metadata": {},
     "output_type": "display_data"
    }
   ],
   "source": [
    "def forceint_re(x,\n",
    "                int_match=re.compile(r'[-+]\\d+$').match,\n",
    "                float_match=re.compile(r'[-+]?\\d*\\.?\\d+(?:[eE][-+]?\\d+)?$').match):\n",
    "    \"\"\"Function to simulate fast_forceint but with regular expressions.\"\"\"\n",
    "    try:\n",
    "        if int_match(x):\n",
    "            return int(x)\n",
    "        elif float_match(x):\n",
    "            return int(float(x))\n",
    "        else:\n",
    "            return x\n",
    "    except TypeError:\n",
    "        return int(x)\n",
    "\n",
    "def forceint_try(x):\n",
    "    \"\"\"Function to simulate fast_forceint but with try/except.\"\"\"\n",
    "    try:\n",
    "        return int(x)\n",
    "    except ValueError:\n",
    "        try:\n",
    "            return int(float(x))\n",
    "        except ValueError:\n",
    "            return x\n",
    "\n",
    "timer = Timer('Timing comparison of forced `int` functions with error handling')\n",
    "timer.add_function('forceint_try', 'try/except', 'from __main__ import forceint_try')\n",
    "timer.add_function('forceint_re', 'regex', 'from __main__ import forceint_re')\n",
    "timer.add_function('fast_forceint', 'fastnumbers', 'from fastnumbers import fast_forceint')\n",
    "timer.time_functions()"
   ]
  },
  {
   "cell_type": "markdown",
   "metadata": {
    "collapsed": true
   },
   "source": [
    "## Checking Functions Timing Results\n",
    "The following timing tests compare the performance of the `fastnumbers` functions that check if an input *could* be converted to numeric type with common equivalent pure-Python implementations."
   ]
  },
  {
   "cell_type": "code",
   "execution_count": 8,
   "metadata": {
    "collapsed": false
   },
   "outputs": [
    {
     "data": {
      "text/markdown": [
       "### Timing comparison to check if value can be converted to `int`"
      ],
      "text/plain": [
       "<IPython.core.display.Markdown object>"
      ]
     },
     "metadata": {},
     "output_type": "display_data"
    },
    {
     "data": {
      "text/markdown": [
       "Input type|try/except (ms)|regex (ms)|fastnumbers (ms)\n",
       "---|---:|---:|---:\n",
       "Non-number String|295.267 ± 7.759|119.758 ± 5.867|**17.311 ± 0.089**\n",
       "Int String|62.619 ± 0.832|133.203 ± 1.284|**17.822 ± 0.288**\n",
       "Large Int String|70.462 ± 0.283|166.266 ± 0.540|**22.065 ± 0.152**\n",
       "Float String|293.479 ± 2.636|139.806 ± 4.688|**17.637 ± 0.043**\n",
       "Large Float String|305.273 ± 1.568|196.939 ± 78.162|**34.515 ± 5.572**\n",
       "Int|88.720 ± 12.704|71.647 ± 14.087|**14.881 ± 0.263**\n",
       "Float|104.216 ± 26.033|60.552 ± 12.073|**15.063 ± 0.233**"
      ],
      "text/plain": [
       "<IPython.core.display.Markdown object>"
      ]
     },
     "metadata": {},
     "output_type": "display_data"
    }
   ],
   "source": [
    "def isint_re(x, int_match=re.compile(r'[-+]?\\d+$').match):\n",
    "    \"\"\"Function to simulate isint but with regular expressions.\"\"\"\n",
    "    t = type(x)\n",
    "    return t == int if t in (float, int) else bool(int_match(x))\n",
    "\n",
    "def isint_try(x):\n",
    "    \"\"\"Function to simulate isint but with try/except.\"\"\"\n",
    "    try:\n",
    "        int(x)\n",
    "    except ValueError:\n",
    "        return False\n",
    "    else:\n",
    "        return type(x) != float\n",
    "\n",
    "timer = Timer('Timing comparison to check if value can be converted to `int`')\n",
    "timer.add_function('isint_try', 'try/except', 'from __main__ import isint_try')\n",
    "timer.add_function('isint_re', 'regex', 'from __main__ import isint_re')\n",
    "timer.add_function('isint', 'fastnumbers', 'from fastnumbers import isint')\n",
    "timer.time_functions()"
   ]
  },
  {
   "cell_type": "code",
   "execution_count": 9,
   "metadata": {
    "collapsed": false
   },
   "outputs": [
    {
     "data": {
      "text/markdown": [
       "### Timing comparison to check if value can be converted to `float`"
      ],
      "text/plain": [
       "<IPython.core.display.Markdown object>"
      ]
     },
     "metadata": {},
     "output_type": "display_data"
    },
    {
     "data": {
      "text/markdown": [
       "Input type|try/except (ms)|regex (ms)|fastnumbers (ms)\n",
       "---|---:|---:|---:\n",
       "Non-number String|275.514 ± 76.341|151.729 ± 50.813|**20.112 ± 1.546**\n",
       "Int String|76.208 ± 19.530|262.749 ± 75.218|**18.716 ± 0.093**\n",
       "Large Int String|108.466 ± 3.549|191.124 ± 1.348|**22.126 ± 0.470**\n",
       "Float String|95.676 ± 1.602|176.330 ± 2.039|**20.814 ± 0.573**\n",
       "Large Float String|138.743 ± 1.575|183.624 ± 0.585|**20.616 ± 0.042**\n",
       "Int|57.752 ± 1.081|51.926 ± 1.719|**15.634 ± 0.231**\n",
       "Float|54.851 ± 2.259|46.013 ± 0.091|**14.167 ± 0.072**"
      ],
      "text/plain": [
       "<IPython.core.display.Markdown object>"
      ]
     },
     "metadata": {},
     "output_type": "display_data"
    }
   ],
   "source": [
    "def isfloat_re(x, float_match=re.compile(r'[-+]?\\d*\\.?\\d+(?:[eE][-+]?\\d+)?$').match):\n",
    "    \"\"\"Function to simulate isfloat but with regular expressions.\"\"\"\n",
    "    t = type(x)\n",
    "    return t == float if t in (float, int) else bool(float_match(x))\n",
    "\n",
    "def isfloat_try(x):\n",
    "    \"\"\"Function to simulate isfloat but with try/except.\"\"\"\n",
    "    try:\n",
    "        float(x)\n",
    "    except ValueError:\n",
    "        return False\n",
    "    else:\n",
    "        return type(x) != int\n",
    "\n",
    "timer = Timer('Timing comparison to check if value can be converted to `float`')\n",
    "timer.add_function('isfloat_try', 'try/except', 'from __main__ import isfloat_try')\n",
    "timer.add_function('isfloat_re', 'regex', 'from __main__ import isfloat_re')\n",
    "timer.add_function('isfloat', 'fastnumbers', 'from fastnumbers import isfloat')\n",
    "timer.time_functions()"
   ]
  },
  {
   "cell_type": "code",
   "execution_count": 10,
   "metadata": {
    "collapsed": false
   },
   "outputs": [
    {
     "data": {
      "text/markdown": [
       "### Timing comparison to check if value can be converted to `float` or `int`"
      ],
      "text/plain": [
       "<IPython.core.display.Markdown object>"
      ]
     },
     "metadata": {},
     "output_type": "display_data"
    },
    {
     "data": {
      "text/markdown": [
       "Input type|try/except (ms)|regex (ms)|fastnumbers (ms)\n",
       "---|---:|---:|---:\n",
       "Non-number String|178.650 ± 10.936|121.444 ± 1.294|**18.428 ± 0.341**\n",
       "Int String|37.888 ± 0.164|158.478 ± 2.303|**18.790 ± 0.095**\n",
       "Large Int String|75.874 ± 0.204|191.211 ± 1.353|**21.825 ± 0.091**\n",
       "Float String|73.440 ± 0.537|179.349 ± 4.726|**35.046 ± 13.362**\n",
       "Large Float String|127.518 ± 19.384|183.842 ± 1.067|**20.771 ± 0.123**\n",
       "Int|35.550 ± 0.715|42.482 ± 0.721|**14.249 ± 0.166**\n",
       "Float|31.144 ± 0.693|38.925 ± 0.402|**14.857 ± 0.542**"
      ],
      "text/plain": [
       "<IPython.core.display.Markdown object>"
      ]
     },
     "metadata": {},
     "output_type": "display_data"
    }
   ],
   "source": [
    "def isreal_re(x, real_match=re.compile(r'[-+]?\\d*\\.?\\d+(?:[eE][-+]?\\d+)?$').match):\n",
    "    \"\"\"Function to simulate isreal but with regular expressions.\"\"\"\n",
    "    return type(x) in (float, int) or bool(real_match(x))\n",
    "\n",
    "def isreal_try(x):\n",
    "    \"\"\"Function to simulate isreal but with try/except.\"\"\"\n",
    "    try:\n",
    "        float(x)\n",
    "    except ValueError:\n",
    "        return False\n",
    "    else:\n",
    "        return True\n",
    "\n",
    "timer = Timer('Timing comparison to check if value can be converted to `float` or `int`')\n",
    "timer.add_function('isreal_try', 'try/except', 'from __main__ import isreal_try')\n",
    "timer.add_function('isreal_re', 'regex', 'from __main__ import isreal_re')\n",
    "timer.add_function('isreal', 'fastnumbers', 'from fastnumbers import isreal')\n",
    "timer.time_functions()"
   ]
  },
  {
   "cell_type": "code",
   "execution_count": 11,
   "metadata": {
    "collapsed": false
   },
   "outputs": [
    {
     "data": {
      "text/markdown": [
       "### Timing comparison to check if value can be coerced losslessly to `int`"
      ],
      "text/plain": [
       "<IPython.core.display.Markdown object>"
      ]
     },
     "metadata": {},
     "output_type": "display_data"
    },
    {
     "data": {
      "text/markdown": [
       "Input type|try/except (ms)|regex (ms)|fastnumbers (ms)\n",
       "---|---:|---:|---:\n",
       "Non-number String|495.129 ± 7.288|118.646 ± 3.377|**17.225 ± 0.098**\n",
       "Int String|85.354 ± 0.376|80.219 ± 1.351|**17.828 ± 0.059**\n",
       "Large Int String|152.463 ± 1.390|114.724 ± 2.326|**20.895 ± 0.083**\n",
       "Float String|457.176 ± 8.801|328.642 ± 3.143|**18.872 ± 0.111**\n",
       "Large Float String|505.239 ± 5.176|379.812 ± 3.279|**19.772 ± 0.144**\n",
       "Int|64.923 ± 0.975|180.410 ± 1.842|**14.408 ± 0.225**\n",
       "Float|141.598 ± 37.947|311.719 ± 22.113|**58.818 ± 5.863**"
      ],
      "text/plain": [
       "<IPython.core.display.Markdown object>"
      ]
     },
     "metadata": {},
     "output_type": "display_data"
    }
   ],
   "source": [
    "def isintlike_re(x,\n",
    "                 int_match=re.compile(r'[-+]?\\d+$').match,\n",
    "                 float_match=re.compile(r'[-+]?\\d*\\.?\\d+(?:[eE][-+]?\\d+)?$').match):\n",
    "    \"\"\"Function to simulate isintlike but with regular expressions.\"\"\"\n",
    "    try:\n",
    "        if int_match(x):\n",
    "            return True\n",
    "        elif float_match(x):\n",
    "            return float(x).is_integer()\n",
    "        else:\n",
    "            return False\n",
    "    except TypeError:\n",
    "        return int(x) == x\n",
    "\n",
    "def isintlike_try(x):\n",
    "    \"\"\"Function to simulate isintlike but with try/except.\"\"\"\n",
    "    try:\n",
    "        a = int(x)\n",
    "    except ValueError:\n",
    "        try:\n",
    "            a = float(x)\n",
    "        except ValueError:\n",
    "            return False\n",
    "        else:\n",
    "            return a.is_integer()\n",
    "    else:\n",
    "        return a == float(x)\n",
    "\n",
    "timer = Timer('Timing comparison to check if value can be coerced losslessly to `int`')\n",
    "timer.add_function('isintlike_try', 'try/except', 'from __main__ import isintlike_try')\n",
    "timer.add_function('isintlike_re', 'regex', 'from __main__ import isintlike_re')\n",
    "timer.add_function('isintlike', 'fastnumbers', 'from fastnumbers import isintlike')\n",
    "timer.time_functions()"
   ]
  },
  {
   "cell_type": "code",
   "execution_count": null,
   "metadata": {
    "collapsed": true
   },
   "outputs": [],
   "source": []
  }
 ],
 "metadata": {
  "anaconda-cloud": {},
  "kernelspec": {
   "display_name": "Python [conda root]",
   "language": "python",
   "name": "conda-root-py"
  },
  "language_info": {
   "codemirror_mode": {
    "name": "ipython",
    "version": 3
   },
   "file_extension": ".py",
   "mimetype": "text/x-python",
   "name": "python",
   "nbconvert_exporter": "python",
   "pygments_lexer": "ipython3",
   "version": "3.5.2"
  }
 },
 "nbformat": 4,
 "nbformat_minor": 1
}
