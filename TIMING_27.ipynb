{
 "cells": [
  {
   "cell_type": "markdown",
   "metadata": {},
   "source": [
    "# Timing Tests of `fastnumbers` Functions Compared to Equivalent Solutions\n",
    "\n",
    "In order for you to see the benefit of `fastnumbers`, some timings are collected below for comparison to equivalent python implementations. The numbers may change depending on the machine you are on or the Python version you are using.\n",
    "\n",
    "Feel free to download this Jupyter Notebook and run the tests yourself to see how `fastnumbers` performs on your machine (it takes about 1-2 minutes total).\n",
    "\n",
    "**This notebook contains timing results for Python 2.7.**\n",
    "\n",
    "#### Some notes about the data\n",
    "\n",
    " - Each test is the time it takes for the function to run 100,000 times on a given input.\n",
    " - Each test is repeated either 5 or 100 times, and the mean ± standard deviation is reported.\n",
    " - The fastest time is shown in **bold**\n",
    " - The timing results for the pure-Python functions include about 10-15 ms of \"function call overhead\"; the `fastnumbers` functions do not suffer from as much overhead because they are C-extensions.\n",
    " - Python version-dependent behaviors:\n",
    "   - **Python 2.7** has a particularly slow `int` function, so the `fastnumbers` speedup is much larger on Python 2.7 than Python 3.x\n",
    "   - **Python >=3.6** is slightly slower in general than previous versions because underscores are now allowed in floats and integers which makes parsing take a bit longer due to the extra logic.\n",
    "   \n",
    "#### Notes about the `Timing` class below\n",
    "\n",
    "The timing runner class is implemented below, and this is used in all the tests to perform the actual timing tests in the sections below. In general you can skip this implementation, but of note is the `THINGS_TO_TIME` tuple, which contains the values that are passed to the functions to type the various input types."
   ]
  },
  {
   "cell_type": "code",
   "execution_count": 1,
   "metadata": {},
   "outputs": [],
   "source": [
    "from __future__ import print_function, division\n",
    "import re\n",
    "import math\n",
    "import timeit\n",
    "from IPython.display import Markdown, display, clear_output\n",
    "\n",
    "class Timer(object):\n",
    "    \"\"\"Class to time functions and make pretty tables of the output.\"\"\"\n",
    "    \n",
    "    # This is a list of all the things we will time with an associated label.\n",
    "    THINGS_TO_TIME = (\n",
    "        ('not_a_number', u'Non-number String'),\n",
    "        ('-41053', u'Int String'),\n",
    "        ('35892482945872302493947939485729', u'Large Int String'),\n",
    "        ('-41053.543034e34', u'Float String'),\n",
    "        ('-41053.543028758302e256', u'Large Float String'),\n",
    "        (-41053, u'Int'),\n",
    "        (-41053.543028758302e100, u'Float'),\n",
    "    )\n",
    "\n",
    "    # Formatting strings.\n",
    "    FUNCTION_CALL_FMT = '{}({!r})'\n",
    "    \n",
    "    def __init__(self, title):\n",
    "        display(Markdown('### ' + title))\n",
    "        self.functions = []\n",
    "    \n",
    "    def add_function(self, func, label, setup='pass'):\n",
    "        \"\"\"Add a function to be timed and compared.\"\"\"\n",
    "        self.functions.append((func, setup, label))\n",
    "\n",
    "    def time_functions(self, repeat=5):\n",
    "        \"\"\"Time all the given functions against all input then display results.\"\"\"\n",
    "\n",
    "        # Collect the function labels to make the header of this table.\n",
    "        # Show that the units are seconds for each.\n",
    "        function_labels = [label + u' (ms)' for _, _, label in self.functions]\n",
    "        \n",
    "        # Construct the table strings, formatted in Markdown.\n",
    "        # Store each line as a string element in a list.\n",
    "        # This portion here is the table header only for now.\n",
    "        table = Table()\n",
    "        table.add_header(u'Input type', *function_labels)\n",
    "        \n",
    "        # For each value, time each function and collect the results.\n",
    "        for value, value_label in self.THINGS_TO_TIME:\n",
    "            row = []\n",
    "            for func, setup, _ in self.functions:\n",
    "                call = self.FUNCTION_CALL_FMT.format(func, value)\n",
    "                try:\n",
    "                    row.append(self._timeit(call, setup, repeat))\n",
    "                except (ValueError, TypeError):\n",
    "                    # We might send in some invalid input accidentally.\n",
    "                    # Ignore those inputs.\n",
    "                    break\n",
    "\n",
    "            # Only add this row if the for loop quit without break.\n",
    "            else:\n",
    "                # Convert to milliseconds\n",
    "                row = [(mean * 1000, stddev * 1000) for mean, stddev in row]\n",
    "                # Make the lowest value bold.\n",
    "                min_indx = min(enumerate(row), key=lambda x: x[1])[0]\n",
    "                row = [u'{:.3f} ± {:.3f}'.format(*x) for x in row]\n",
    "                row[min_indx] = self.bold(row[min_indx])\n",
    "                table.add_row(value_label, *row)\n",
    "\n",
    "        # Show the results in a table.\n",
    "        display(Markdown(unicode(table)))\n",
    "\n",
    "    @staticmethod\n",
    "    def mean(x):\n",
    "        return math.fsum(x) / len(x)\n",
    "\n",
    "    @staticmethod\n",
    "    def stddev(x):\n",
    "        mean = Timer.mean(x)\n",
    "        sum_of_squares = math.fsum((v - mean)**2 for v in x)\n",
    "        return math.sqrt(sum_of_squares / (len(x) - 1))\n",
    "\n",
    "    @staticmethod\n",
    "    def bold(x):\n",
    "        return u\"**{}**\".format(x)\n",
    "    \n",
    "    def _timeit(self, call, setup, repeat=5):\n",
    "        \"\"\"Perform the actual timing and return a formatted string of the runtime\"\"\"\n",
    "        result = timeit.repeat(call, setup, number=100000, repeat=repeat)\n",
    "        return self.mean(result), self.stddev(result)\n",
    "\n",
    "class Table(list):\n",
    "    \"\"\"List of strings that can be made into a Markdown table.\"\"\"\n",
    "    def add_row(self, *elements):\n",
    "        self.append('|'.join(elements))\n",
    "    def add_header(self, *elements):\n",
    "        self.add_row(*elements)\n",
    "        seperators = ['---'] * len(elements)\n",
    "        seperators = [sep + (':' if i != 0 else '') for i, sep in enumerate(seperators)]\n",
    "        self.add_row(*seperators)\n",
    "    def __str__(self):\n",
    "        return '\\n'.join(self)\n",
    "    def __unicode__(self):\n",
    "        return u'\\n'.join(self)"
   ]
  },
  {
   "cell_type": "markdown",
   "metadata": {},
   "source": [
    "## Built-in Functions Drop-in Replacement Timing Results\n",
    "The following timing tests compare the performance of Python's builtin `int` and `float` functions against the implementations from `fastnumbers` for various input types."
   ]
  },
  {
   "cell_type": "code",
   "execution_count": 2,
   "metadata": {
    "scrolled": true
   },
   "outputs": [
    {
     "data": {
      "text/markdown": [
       "### Timing comparison of `int` functions"
      ],
      "text/plain": [
       "<IPython.core.display.Markdown object>"
      ]
     },
     "metadata": {},
     "output_type": "display_data"
    },
    {
     "data": {
      "text/markdown": [
       "Input type|builtin (ms)|fastnumbers (ms)\n",
       "---|---:|---:\n",
       "Int String|101.173 ± 13.378|**21.711 ± 2.270**\n",
       "Large Int String|123.786 ± 31.828|**89.459 ± 12.439**\n",
       "Int|25.424 ± 6.610|**17.122 ± 4.189**\n",
       "Float|40.053 ± 9.408|**34.244 ± 4.082**"
      ],
      "text/plain": [
       "<IPython.core.display.Markdown object>"
      ]
     },
     "metadata": {},
     "output_type": "display_data"
    }
   ],
   "source": [
    "timer = Timer('Timing comparison of `int` functions')\n",
    "timer.add_function('int', 'builtin')\n",
    "timer.add_function('int', 'fastnumbers', 'from fastnumbers import int')\n",
    "timer.time_functions(repeat=100)"
   ]
  },
  {
   "cell_type": "code",
   "execution_count": 3,
   "metadata": {},
   "outputs": [
    {
     "data": {
      "text/markdown": [
       "### Timing comparison of `float` functions"
      ],
      "text/plain": [
       "<IPython.core.display.Markdown object>"
      ]
     },
     "metadata": {},
     "output_type": "display_data"
    },
    {
     "data": {
      "text/markdown": [
       "Input type|builtin (ms)|fastnumbers (ms)\n",
       "---|---:|---:\n",
       "Int String|36.893 ± 8.293|**29.728 ± 4.165**\n",
       "Large Int String|**73.612 ± 10.989**|75.805 ± 7.760\n",
       "Float String|71.280 ± 16.678|**29.698 ± 4.560**\n",
       "Large Float String|126.384 ± 34.909|**119.720 ± 16.692**\n",
       "Int|18.345 ± 2.759|**15.505 ± 2.342**\n",
       "Float|20.130 ± 4.839|**14.360 ± 2.482**"
      ],
      "text/plain": [
       "<IPython.core.display.Markdown object>"
      ]
     },
     "metadata": {},
     "output_type": "display_data"
    }
   ],
   "source": [
    "timer = Timer('Timing comparison of `float` functions')\n",
    "timer.add_function('float', 'builtin')\n",
    "timer.add_function('float', 'fastnumbers', 'from fastnumbers import float')\n",
    "timer.time_functions(repeat=100)"
   ]
  },
  {
   "cell_type": "markdown",
   "metadata": {},
   "source": [
    "## Error-Handling Conversion Functions Timing Results\n",
    "The following timing tests compare the performance of the `fastnumbers` functions that convert input to numeric types while doing error handling with common equivalent pure-Python implementations."
   ]
  },
  {
   "cell_type": "code",
   "execution_count": 4,
   "metadata": {},
   "outputs": [
    {
     "data": {
      "text/markdown": [
       "### Timing comparison of `int` functions with error handling"
      ],
      "text/plain": [
       "<IPython.core.display.Markdown object>"
      ]
     },
     "metadata": {},
     "output_type": "display_data"
    },
    {
     "data": {
      "text/markdown": [
       "Input type|try/except (ms)|regex (ms)|fastnumbers (ms)\n",
       "---|---:|---:|---:\n",
       "Non-number String|361.431 ± 13.968|57.017 ± 3.563|**16.235 ± 1.515**\n",
       "Int String|112.147 ± 19.162|170.874 ± 20.856|**19.163 ± 4.272**\n",
       "Large Int String|112.679 ± 5.775|236.964 ± 14.054|**64.906 ± 5.125**\n",
       "Float String|375.727 ± 22.185|88.013 ± 2.245|**20.188 ± 4.086**\n",
       "Large Float String|410.145 ± 14.052|80.047 ± 7.543|**17.400 ± 2.364**\n",
       "Int|27.391 ± 2.699|215.707 ± 37.494|**13.473 ± 0.019**\n",
       "Float|42.734 ± 2.214|202.926 ± 12.379|**28.144 ± 4.172**"
      ],
      "text/plain": [
       "<IPython.core.display.Markdown object>"
      ]
     },
     "metadata": {},
     "output_type": "display_data"
    }
   ],
   "source": [
    "def int_re(x, int_match=re.compile(r'[-+]?\\d+$').match):\n",
    "    \"\"\"Function to simulate fast_int but with regular expressions.\"\"\"\n",
    "    try:\n",
    "        if int_match(x):\n",
    "            return int(x)\n",
    "        else:\n",
    "            return x\n",
    "    except TypeError:\n",
    "        return int(x)\n",
    "\n",
    "def int_try(x):\n",
    "    \"\"\"Function to simulate fast_int but with try/except.\"\"\"\n",
    "    try:\n",
    "        return int(x)\n",
    "    except ValueError:\n",
    "        return x\n",
    "\n",
    "timer = Timer('Timing comparison of `int` functions with error handling')\n",
    "timer.add_function('int_try', 'try/except', 'from __main__ import int_try')\n",
    "timer.add_function('int_re', 'regex', 'from __main__ import int_re')\n",
    "timer.add_function('fast_int', 'fastnumbers', 'from fastnumbers import fast_int')\n",
    "timer.time_functions()"
   ]
  },
  {
   "cell_type": "code",
   "execution_count": 5,
   "metadata": {},
   "outputs": [
    {
     "data": {
      "text/markdown": [
       "### Timing comparison of `float` functions with error handling"
      ],
      "text/plain": [
       "<IPython.core.display.Markdown object>"
      ]
     },
     "metadata": {},
     "output_type": "display_data"
    },
    {
     "data": {
      "text/markdown": [
       "Input type|try/except (ms)|regex (ms)|fastnumbers (ms)\n",
       "---|---:|---:|---:\n",
       "Non-number String|234.682 ± 15.966|66.745 ± 1.314|**16.723 ± 0.307**\n",
       "Int String|34.141 ± 0.352|119.113 ± 5.294|**23.219 ± 4.303**\n",
       "Large Int String|61.664 ± 2.962|234.115 ± 40.272|**57.132 ± 7.420**\n",
       "Float String|66.602 ± 14.432|189.457 ± 7.506|**23.185 ± 1.790**\n",
       "Large Float String|120.675 ± 34.570|228.632 ± 6.617|**97.355 ± 6.959**\n",
       "Int|27.653 ± 2.543|214.730 ± 28.851|**17.761 ± 2.972**\n",
       "Float|27.104 ± 1.136|191.860 ± 16.932|**18.093 ± 2.613**"
      ],
      "text/plain": [
       "<IPython.core.display.Markdown object>"
      ]
     },
     "metadata": {},
     "output_type": "display_data"
    }
   ],
   "source": [
    "def float_re(x, float_match=re.compile(r'[-+]?\\d*\\.?\\d+(?:[eE][-+]?\\d+)?$').match):\n",
    "    \"\"\"Function to simulate fast_float but with regular expressions.\"\"\"\n",
    "    try:\n",
    "        if float_match(x):\n",
    "            return float(x)\n",
    "        else:\n",
    "            return x\n",
    "    except TypeError:\n",
    "        return float(x)\n",
    "\n",
    "def float_try(x):\n",
    "    \"\"\"Function to simulate fast_float but with try/except.\"\"\"\n",
    "    try:\n",
    "        return float(x)\n",
    "    except ValueError:\n",
    "        return x\n",
    "\n",
    "timer = Timer('Timing comparison of `float` functions with error handling')\n",
    "timer.add_function('float_try', 'try/except', 'from __main__ import float_try')\n",
    "timer.add_function('float_re', 'regex', 'from __main__ import float_re')\n",
    "timer.add_function('fast_float', 'fastnumbers', 'from fastnumbers import fast_float')\n",
    "timer.time_functions()"
   ]
  },
  {
   "cell_type": "code",
   "execution_count": 6,
   "metadata": {},
   "outputs": [
    {
     "data": {
      "text/markdown": [
       "### Timing comparison of `float` (but coerce to `int` if possible) functions with error handling"
      ],
      "text/plain": [
       "<IPython.core.display.Markdown object>"
      ]
     },
     "metadata": {},
     "output_type": "display_data"
    },
    {
     "data": {
      "text/markdown": [
       "Input type|try/except (ms)|regex (ms)|fastnumbers (ms)\n",
       "---|---:|---:|---:\n",
       "Non-number String|239.736 ± 26.085|121.046 ± 5.565|**20.879 ± 3.757**\n",
       "Int String|69.326 ± 2.697|184.650 ± 16.253|**18.394 ± 0.072**\n",
       "Large Int String|132.072 ± 13.528|232.658 ± 23.376|**70.125 ± 4.896**\n",
       "Float String|151.677 ± 20.019|279.944 ± 14.248|**37.661 ± 3.033**\n",
       "Large Float String|239.977 ± 3.168|296.607 ± 15.818|**118.243 ± 6.281**\n",
       "Int|57.851 ± 5.062|212.900 ± 22.424|**14.739 ± 2.225**\n",
       "Float|85.055 ± 6.651|185.491 ± 6.697|**42.469 ± 5.220**"
      ],
      "text/plain": [
       "<IPython.core.display.Markdown object>"
      ]
     },
     "metadata": {},
     "output_type": "display_data"
    }
   ],
   "source": [
    "def real_re(x,\n",
    "            int_match=re.compile(r'[-+]?\\d+$').match,\n",
    "            real_match=re.compile(r'[-+]?\\d*\\.?\\d+(?:[eE][-+]?\\d+)?$').match):\n",
    "    \"\"\"Function to simulate fast_real but with regular expressions.\"\"\"\n",
    "    try:\n",
    "        if int_match(x):\n",
    "            return int(x)\n",
    "        elif real_match(x):\n",
    "            return float(x)\n",
    "        else:\n",
    "            return x\n",
    "    except TypeError:\n",
    "        if type(x) in (float, int):\n",
    "            return x\n",
    "        else:\n",
    "            raise TypeError\n",
    "\n",
    "def real_try(x):\n",
    "    \"\"\"Function to simulate fast_real but with try/except.\"\"\"\n",
    "    try:\n",
    "        a = float(x)\n",
    "    except ValueError:\n",
    "        return x\n",
    "    else:\n",
    "        b = int(a)\n",
    "        return b if a == b else b\n",
    "\n",
    "timer = Timer('Timing comparison of `float` (but coerce to `int` if possible) functions with error handling')\n",
    "timer.add_function('real_try', 'try/except', 'from __main__ import real_try')\n",
    "timer.add_function('real_re', 'regex', 'from __main__ import real_re')\n",
    "timer.add_function('fast_real', 'fastnumbers', 'from fastnumbers import fast_real')\n",
    "timer.time_functions()"
   ]
  },
  {
   "cell_type": "code",
   "execution_count": 7,
   "metadata": {},
   "outputs": [
    {
     "data": {
      "text/markdown": [
       "### Timing comparison of forced `int` functions with error handling"
      ],
      "text/plain": [
       "<IPython.core.display.Markdown object>"
      ]
     },
     "metadata": {},
     "output_type": "display_data"
    },
    {
     "data": {
      "text/markdown": [
       "Input type|try/except (ms)|regex (ms)|fastnumbers (ms)\n",
       "---|---:|---:|---:\n",
       "Non-number String|612.884 ± 11.707|114.501 ± 2.865|**20.672 ± 3.480**\n",
       "Int String|110.811 ± 3.648|170.250 ± 9.307|**20.236 ± 4.279**\n",
       "Large Int String|114.232 ± 6.011|275.033 ± 4.928|**68.848 ± 5.699**\n",
       "Float String|545.209 ± 22.123|292.875 ± 12.875|**33.671 ± 2.678**\n",
       "Large Float String|604.830 ± 37.628|350.263 ± 8.960|**123.353 ± 9.986**\n",
       "Int|29.965 ± 4.202|190.830 ± 21.201|**13.246 ± 0.177**\n",
       "Float|51.259 ± 12.088|204.337 ± 10.433|**23.503 ± 0.198**"
      ],
      "text/plain": [
       "<IPython.core.display.Markdown object>"
      ]
     },
     "metadata": {},
     "output_type": "display_data"
    }
   ],
   "source": [
    "def forceint_re(x,\n",
    "                int_match=re.compile(r'[-+]\\d+$').match,\n",
    "                float_match=re.compile(r'[-+]?\\d*\\.?\\d+(?:[eE][-+]?\\d+)?$').match):\n",
    "    \"\"\"Function to simulate fast_forceint but with regular expressions.\"\"\"\n",
    "    try:\n",
    "        if int_match(x):\n",
    "            return int(x)\n",
    "        elif float_match(x):\n",
    "            return int(float(x))\n",
    "        else:\n",
    "            return x\n",
    "    except TypeError:\n",
    "        return int(x)\n",
    "\n",
    "def forceint_try(x):\n",
    "    \"\"\"Function to simulate fast_forceint but with try/except.\"\"\"\n",
    "    try:\n",
    "        return int(x)\n",
    "    except ValueError:\n",
    "        try:\n",
    "            return int(float(x))\n",
    "        except ValueError:\n",
    "            return x\n",
    "\n",
    "timer = Timer('Timing comparison of forced `int` functions with error handling')\n",
    "timer.add_function('forceint_try', 'try/except', 'from __main__ import forceint_try')\n",
    "timer.add_function('forceint_re', 'regex', 'from __main__ import forceint_re')\n",
    "timer.add_function('fast_forceint', 'fastnumbers', 'from fastnumbers import fast_forceint')\n",
    "timer.time_functions()"
   ]
  },
  {
   "cell_type": "markdown",
   "metadata": {
    "collapsed": true
   },
   "source": [
    "## Checking Functions Timing Results\n",
    "The following timing tests compare the performance of the `fastnumbers` functions that check if an input *could* be converted to numeric type with common equivalent pure-Python implementations."
   ]
  },
  {
   "cell_type": "code",
   "execution_count": 8,
   "metadata": {},
   "outputs": [
    {
     "data": {
      "text/markdown": [
       "### Timing comparison to check if value can be converted to `int`"
      ],
      "text/plain": [
       "<IPython.core.display.Markdown object>"
      ]
     },
     "metadata": {},
     "output_type": "display_data"
    },
    {
     "data": {
      "text/markdown": [
       "Input type|try/except (ms)|regex (ms)|fastnumbers (ms)\n",
       "---|---:|---:|---:\n",
       "Non-number String|380.387 ± 34.912|94.054 ± 3.020|**19.910 ± 4.331**\n",
       "Int String|116.676 ± 10.119|126.385 ± 15.163|**17.604 ± 3.668**\n",
       "Large Int String|135.369 ± 8.504|165.487 ± 10.223|**20.516 ± 3.785**\n",
       "Float String|387.309 ± 27.393|118.966 ± 4.963|**17.125 ± 2.449**\n",
       "Large Float String|376.728 ± 25.655|140.462 ± 11.162|**18.385 ± 2.219**\n",
       "Int|59.199 ± 8.584|65.760 ± 4.455|**20.777 ± 2.508**\n",
       "Float|93.483 ± 12.204|43.709 ± 0.843|**15.157 ± 2.182**"
      ],
      "text/plain": [
       "<IPython.core.display.Markdown object>"
      ]
     },
     "metadata": {},
     "output_type": "display_data"
    }
   ],
   "source": [
    "def isint_re(x, int_match=re.compile(r'[-+]?\\d+$').match):\n",
    "    \"\"\"Function to simulate isint but with regular expressions.\"\"\"\n",
    "    t = type(x)\n",
    "    return t == int if t in (float, int) else bool(int_match(x))\n",
    "\n",
    "def isint_try(x):\n",
    "    \"\"\"Function to simulate isint but with try/except.\"\"\"\n",
    "    try:\n",
    "        int(x)\n",
    "    except ValueError:\n",
    "        return False\n",
    "    else:\n",
    "        return type(x) != float\n",
    "\n",
    "timer = Timer('Timing comparison to check if value can be converted to `int`')\n",
    "timer.add_function('isint_try', 'try/except', 'from __main__ import isint_try')\n",
    "timer.add_function('isint_re', 'regex', 'from __main__ import isint_re')\n",
    "timer.add_function('isint', 'fastnumbers', 'from fastnumbers import isint')\n",
    "timer.time_functions()"
   ]
  },
  {
   "cell_type": "code",
   "execution_count": 9,
   "metadata": {},
   "outputs": [
    {
     "data": {
      "text/markdown": [
       "### Timing comparison to check if value can be converted to `float`"
      ],
      "text/plain": [
       "<IPython.core.display.Markdown object>"
      ]
     },
     "metadata": {},
     "output_type": "display_data"
    },
    {
     "data": {
      "text/markdown": [
       "Input type|try/except (ms)|regex (ms)|fastnumbers (ms)\n",
       "---|---:|---:|---:\n",
       "Non-number String|262.301 ± 25.634|125.525 ± 8.284|**21.082 ± 2.755**\n",
       "Int String|62.725 ± 5.847|160.803 ± 6.392|**20.999 ± 1.722**\n",
       "Large Int String|94.814 ± 8.252|178.786 ± 9.127|**21.557 ± 4.289**\n",
       "Float String|83.937 ± 2.416|163.689 ± 6.476|**20.665 ± 3.825**\n",
       "Large Float String|123.722 ± 6.166|165.443 ± 2.684|**18.597 ± 0.784**\n",
       "Int|47.624 ± 4.602|40.044 ± 2.657|**13.363 ± 0.100**\n",
       "Float|48.643 ± 3.788|41.654 ± 8.478|**13.820 ± 2.117**"
      ],
      "text/plain": [
       "<IPython.core.display.Markdown object>"
      ]
     },
     "metadata": {},
     "output_type": "display_data"
    }
   ],
   "source": [
    "def isfloat_re(x, float_match=re.compile(r'[-+]?\\d*\\.?\\d+(?:[eE][-+]?\\d+)?$').match):\n",
    "    \"\"\"Function to simulate isfloat but with regular expressions.\"\"\"\n",
    "    t = type(x)\n",
    "    return t == float if t in (float, int) else bool(float_match(x))\n",
    "\n",
    "def isfloat_try(x):\n",
    "    \"\"\"Function to simulate isfloat but with try/except.\"\"\"\n",
    "    try:\n",
    "        float(x)\n",
    "    except ValueError:\n",
    "        return False\n",
    "    else:\n",
    "        return type(x) != int\n",
    "\n",
    "timer = Timer('Timing comparison to check if value can be converted to `float`')\n",
    "timer.add_function('isfloat_try', 'try/except', 'from __main__ import isfloat_try')\n",
    "timer.add_function('isfloat_re', 'regex', 'from __main__ import isfloat_re')\n",
    "timer.add_function('isfloat', 'fastnumbers', 'from fastnumbers import isfloat')\n",
    "timer.time_functions()"
   ]
  },
  {
   "cell_type": "code",
   "execution_count": 10,
   "metadata": {},
   "outputs": [
    {
     "data": {
      "text/markdown": [
       "### Timing comparison to check if value can be converted to `float` or `int`"
      ],
      "text/plain": [
       "<IPython.core.display.Markdown object>"
      ]
     },
     "metadata": {},
     "output_type": "display_data"
    },
    {
     "data": {
      "text/markdown": [
       "Input type|try/except (ms)|regex (ms)|fastnumbers (ms)\n",
       "---|---:|---:|---:\n",
       "Non-number String|238.638 ± 12.199|124.403 ± 5.983|**19.753 ± 2.578**\n",
       "Int String|42.436 ± 4.072|154.051 ± 11.776|**19.090 ± 2.782**\n",
       "Large Int String|61.730 ± 2.345|166.411 ± 5.562|**19.704 ± 0.165**\n",
       "Float String|65.054 ± 2.892|161.396 ± 4.098|**18.965 ± 2.301**\n",
       "Large Float String|111.087 ± 16.251|169.679 ± 5.046|**19.422 ± 2.438**\n",
       "Int|33.288 ± 3.486|34.892 ± 2.695|**14.888 ± 2.439**\n",
       "Float|31.091 ± 1.802|32.155 ± 2.482|**12.621 ± 0.189**"
      ],
      "text/plain": [
       "<IPython.core.display.Markdown object>"
      ]
     },
     "metadata": {},
     "output_type": "display_data"
    }
   ],
   "source": [
    "def isreal_re(x, real_match=re.compile(r'[-+]?\\d*\\.?\\d+(?:[eE][-+]?\\d+)?$').match):\n",
    "    \"\"\"Function to simulate isreal but with regular expressions.\"\"\"\n",
    "    return type(x) in (float, int) or bool(real_match(x))\n",
    "\n",
    "def isreal_try(x):\n",
    "    \"\"\"Function to simulate isreal but with try/except.\"\"\"\n",
    "    try:\n",
    "        float(x)\n",
    "    except ValueError:\n",
    "        return False\n",
    "    else:\n",
    "        return True\n",
    "\n",
    "timer = Timer('Timing comparison to check if value can be converted to `float` or `int`')\n",
    "timer.add_function('isreal_try', 'try/except', 'from __main__ import isreal_try')\n",
    "timer.add_function('isreal_re', 'regex', 'from __main__ import isreal_re')\n",
    "timer.add_function('isreal', 'fastnumbers', 'from fastnumbers import isreal')\n",
    "timer.time_functions()"
   ]
  },
  {
   "cell_type": "code",
   "execution_count": 11,
   "metadata": {},
   "outputs": [
    {
     "data": {
      "text/markdown": [
       "### Timing comparison to check if value can be coerced losslessly to `int`"
      ],
      "text/plain": [
       "<IPython.core.display.Markdown object>"
      ]
     },
     "metadata": {},
     "output_type": "display_data"
    },
    {
     "data": {
      "text/markdown": [
       "Input type|try/except (ms)|regex (ms)|fastnumbers (ms)\n",
       "---|---:|---:|---:\n",
       "Non-number String|576.280 ± 53.449|108.002 ± 10.835|**17.619 ± 3.504**\n",
       "Int String|133.047 ± 7.734|81.662 ± 9.826|**19.764 ± 2.615**\n",
       "Large Int String|240.449 ± 15.356|106.008 ± 2.920|**22.428 ± 3.456**\n",
       "Float String|532.435 ± 38.686|282.126 ± 26.171|**17.174 ± 0.052**\n",
       "Large Float String|544.959 ± 19.542|321.752 ± 19.000|**19.837 ± 3.997**\n",
       "Int|53.256 ± 5.187|185.891 ± 4.799|**12.830 ± 0.615**\n",
       "Float|82.127 ± 3.947|237.837 ± 7.590|**29.697 ± 1.967**"
      ],
      "text/plain": [
       "<IPython.core.display.Markdown object>"
      ]
     },
     "metadata": {},
     "output_type": "display_data"
    }
   ],
   "source": [
    "def isintlike_re(x,\n",
    "                 int_match=re.compile(r'[-+]?\\d+$').match,\n",
    "                 float_match=re.compile(r'[-+]?\\d*\\.?\\d+(?:[eE][-+]?\\d+)?$').match):\n",
    "    \"\"\"Function to simulate isintlike but with regular expressions.\"\"\"\n",
    "    try:\n",
    "        if int_match(x):\n",
    "            return True\n",
    "        elif float_match(x):\n",
    "            return float(x).is_integer()\n",
    "        else:\n",
    "            return False\n",
    "    except TypeError:\n",
    "        return int(x) == x\n",
    "\n",
    "def isintlike_try(x):\n",
    "    \"\"\"Function to simulate isintlike but with try/except.\"\"\"\n",
    "    try:\n",
    "        a = int(x)\n",
    "    except ValueError:\n",
    "        try:\n",
    "            a = float(x)\n",
    "        except ValueError:\n",
    "            return False\n",
    "        else:\n",
    "            return a.is_integer()\n",
    "    else:\n",
    "        return a == float(x)\n",
    "\n",
    "timer = Timer('Timing comparison to check if value can be coerced losslessly to `int`')\n",
    "timer.add_function('isintlike_try', 'try/except', 'from __main__ import isintlike_try')\n",
    "timer.add_function('isintlike_re', 'regex', 'from __main__ import isintlike_re')\n",
    "timer.add_function('isintlike', 'fastnumbers', 'from fastnumbers import isintlike')\n",
    "timer.time_functions()"
   ]
  },
  {
   "cell_type": "code",
   "execution_count": null,
   "metadata": {},
   "outputs": [],
   "source": []
  }
 ],
 "metadata": {
  "anaconda-cloud": {},
  "kernelspec": {
   "display_name": "Python 2",
   "language": "python",
   "name": "python2"
  },
  "language_info": {
   "codemirror_mode": {
    "name": "ipython",
    "version": 2
   },
   "file_extension": ".py",
   "mimetype": "text/x-python",
   "name": "python",
   "nbconvert_exporter": "python",
   "pygments_lexer": "ipython2",
   "version": "2.7.15"
  }
 },
 "nbformat": 4,
 "nbformat_minor": 1
}
