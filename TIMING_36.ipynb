{
 "cells": [
  {
   "cell_type": "markdown",
   "metadata": {},
   "source": [
    "# Timing Tests of `fastnumbers` Functions Compared to Equivalent Solutions\n",
    "\n",
    "In order for you to see the benefit of `fastnumbers`, some timings are collected below for comparison to equivalent python implementations. The numbers may change depending on the machine you are on or the Python version you are using.\n",
    "\n",
    "Feel free to download this Jupyter Notebook and run the tests yourself to see how `fastnumbers` performs on your machine (it takes about 1-2 minutes total).\n",
    "\n",
    "**This notebook contains timing results for Python 3.6.**\n",
    "\n",
    "#### Some notes about the data\n",
    "\n",
    " - Each test is the time it takes for the function to run 100,000 times on a given input.\n",
    " - Each test is repeated either 5 or 100 times, and the mean ± standard deviation is reported.\n",
    " - The fastest time is shown in **bold**\n",
    " - The timing results for the pure-Python functions include about 10-15 ms of \"function call overhead\"; the `fastnumbers` functions do not suffer from as much overhead because they are C-extensions.\n",
    " - Python version-dependent behaviors:\n",
    "   - **Python 2.7** has a particularly slow `int` function, so the `fastnumbers` speedup is much larger on Python 2.7 than Python 3.x\n",
    "   - **Python >=3.6** is slightly slower in general than previous versions because underscores are now allowed in floats and integers which makes parsing take a bit longer due to the extra logic.\n",
    "   \n",
    "#### Notes about the `Timing` class below\n",
    "\n",
    "The timing runner class is implemented below, and this is used in all the tests to perform the actual timing tests in the sections below. In general you can skip this implementation, but of note is the `THINGS_TO_TIME` tuple, which contains the values that are passed to the functions to type the various input types."
   ]
  },
  {
   "cell_type": "code",
   "execution_count": 1,
   "metadata": {},
   "outputs": [],
   "source": [
    "from __future__ import print_function, division\n",
    "import re\n",
    "import math\n",
    "import timeit\n",
    "from IPython.display import Markdown, display, clear_output\n",
    "\n",
    "class Timer(object):\n",
    "    \"\"\"Class to time functions and make pretty tables of the output.\"\"\"\n",
    "    \n",
    "    # This is a list of all the things we will time with an associated label.\n",
    "    THINGS_TO_TIME = (\n",
    "        ('not_a_number', 'Non-number String'),\n",
    "        ('-41053', 'Int String'),\n",
    "        ('35892482945872302493947939485729', 'Large Int String'),\n",
    "        ('-41053.543034e34', 'Float String'),\n",
    "        ('-41053.543028758302e256', 'Large Float String'),\n",
    "        (-41053, 'Int'),\n",
    "        (-41053.543028758302e100, 'Float'),\n",
    "    )\n",
    "\n",
    "    # Formatting strings.\n",
    "    FUNCTION_CALL_FMT = '{}({!r})'\n",
    "    \n",
    "    def __init__(self, title):\n",
    "        display(Markdown('### ' + title))\n",
    "        self.functions = []\n",
    "    \n",
    "    def add_function(self, func, label, setup='pass'):\n",
    "        \"\"\"Add a function to be timed and compared.\"\"\"\n",
    "        self.functions.append((func, setup, label))\n",
    "\n",
    "    def time_functions(self, repeat=5):\n",
    "        \"\"\"Time all the given functions against all input then display results.\"\"\"\n",
    "\n",
    "        # Collect the function labels to make the header of this table.\n",
    "        # Show that the units are seconds for each.\n",
    "        function_labels = [label + ' (ms)' for _, _, label in self.functions]\n",
    "        \n",
    "        # Construct the table strings, formatted in Markdown.\n",
    "        # Store each line as a string element in a list.\n",
    "        # This portion here is the table header only for now.\n",
    "        table = Table()\n",
    "        table.add_header('Input type', *function_labels)\n",
    "        \n",
    "        # For each value, time each function and collect the results.\n",
    "        for value, value_label in self.THINGS_TO_TIME:\n",
    "            row = []\n",
    "            for func, setup, _ in self.functions:\n",
    "                call = self.FUNCTION_CALL_FMT.format(func, value)\n",
    "                try:\n",
    "                    row.append(self._timeit(call, setup, repeat))\n",
    "                except (ValueError, TypeError):\n",
    "                    # We might send in some invalid input accidentally.\n",
    "                    # Ignore those inputs.\n",
    "                    break\n",
    "\n",
    "            # Only add this row if the for loop quit without break.\n",
    "            else:\n",
    "                # Convert to milliseconds\n",
    "                row = [(mean * 1000, stddev * 1000) for mean, stddev in row]\n",
    "                # Make the lowest value bold.\n",
    "                min_indx = min(enumerate(row), key=lambda x: x[1])[0]\n",
    "                row = ['{:.3f} ± {:.3f}'.format(*x) for x in row]\n",
    "                row[min_indx] = self.bold(row[min_indx])\n",
    "                table.add_row(value_label, *row)\n",
    "\n",
    "        # Show the results in a table.\n",
    "        display(Markdown(str(table)))\n",
    "\n",
    "    @staticmethod\n",
    "    def mean(x):\n",
    "        return math.fsum(x) / len(x)\n",
    "\n",
    "    @staticmethod\n",
    "    def stddev(x):\n",
    "        mean = Timer.mean(x)\n",
    "        sum_of_squares = math.fsum((v - mean)**2 for v in x)\n",
    "        return math.sqrt(sum_of_squares / (len(x) - 1))\n",
    "\n",
    "    @staticmethod\n",
    "    def bold(x):\n",
    "        return \"**{}**\".format(x)\n",
    "    \n",
    "    def _timeit(self, call, setup, repeat=5):\n",
    "        \"\"\"Perform the actual timing and return a formatted string of the runtime\"\"\"\n",
    "        result = timeit.repeat(call, setup, number=100000, repeat=repeat)\n",
    "        return self.mean(result), self.stddev(result)\n",
    "\n",
    "class Table(list):\n",
    "    \"\"\"List of strings that can be made into a Markdown table.\"\"\"\n",
    "    def add_row(self, *elements):\n",
    "        self.append('|'.join(elements))\n",
    "    def add_header(self, *elements):\n",
    "        self.add_row(*elements)\n",
    "        seperators = ['---'] * len(elements)\n",
    "        seperators = [sep + (':' if i != 0 else '') for i, sep in enumerate(seperators)]\n",
    "        self.add_row(*seperators)\n",
    "    def __str__(self):\n",
    "        return '\\n'.join(self)\n"
   ]
  },
  {
   "cell_type": "markdown",
   "metadata": {},
   "source": [
    "## Built-in Functions Drop-in Replacement Timing Results\n",
    "The following timing tests compare the performance of Python's builtin `int` and `float` functions against the implementations from `fastnumbers` for various input types."
   ]
  },
  {
   "cell_type": "code",
   "execution_count": 2,
   "metadata": {
    "scrolled": true
   },
   "outputs": [
    {
     "data": {
      "text/markdown": [
       "### Timing comparison of `int` functions"
      ],
      "text/plain": [
       "<IPython.core.display.Markdown object>"
      ]
     },
     "metadata": {},
     "output_type": "display_data"
    },
    {
     "data": {
      "text/markdown": [
       "Input type|builtin (ms)|fastnumbers (ms)\n",
       "---|---:|---:\n",
       "Int String|38.683 ± 4.786|**25.904 ± 3.699**\n",
       "Large Int String|42.917 ± 3.750|**38.772 ± 3.171**\n",
       "Int|18.586 ± 2.567|**15.980 ± 1.939**\n",
       "Float|30.487 ± 2.989|**27.916 ± 2.829**"
      ],
      "text/plain": [
       "<IPython.core.display.Markdown object>"
      ]
     },
     "metadata": {},
     "output_type": "display_data"
    }
   ],
   "source": [
    "timer = Timer('Timing comparison of `int` functions')\n",
    "timer.add_function('int', 'builtin')\n",
    "timer.add_function('int', 'fastnumbers', 'from fastnumbers import int')\n",
    "timer.time_functions(repeat=100)"
   ]
  },
  {
   "cell_type": "code",
   "execution_count": 3,
   "metadata": {},
   "outputs": [
    {
     "data": {
      "text/markdown": [
       "### Timing comparison of `float` functions"
      ],
      "text/plain": [
       "<IPython.core.display.Markdown object>"
      ]
     },
     "metadata": {},
     "output_type": "display_data"
    },
    {
     "data": {
      "text/markdown": [
       "Input type|builtin (ms)|fastnumbers (ms)\n",
       "---|---:|---:\n",
       "Int String|25.528 ± 3.027|**21.709 ± 2.300**\n",
       "Large Int String|56.576 ± 7.385|**55.016 ± 4.036**\n",
       "Float String|54.128 ± 3.977|**23.068 ± 2.203**\n",
       "Large Float String|90.642 ± 4.793|**89.915 ± 5.405**\n",
       "Int|19.447 ± 2.292|**16.192 ± 1.904**\n",
       "Float|17.642 ± 1.728|**14.697 ± 1.746**"
      ],
      "text/plain": [
       "<IPython.core.display.Markdown object>"
      ]
     },
     "metadata": {},
     "output_type": "display_data"
    }
   ],
   "source": [
    "timer = Timer('Timing comparison of `float` functions')\n",
    "timer.add_function('float', 'builtin')\n",
    "timer.add_function('float', 'fastnumbers', 'from fastnumbers import float')\n",
    "timer.time_functions(repeat=100)"
   ]
  },
  {
   "cell_type": "markdown",
   "metadata": {},
   "source": [
    "## Error-Handling Conversion Functions Timing Results\n",
    "The following timing tests compare the performance of the `fastnumbers` functions that convert input to numeric types while doing error handling with common equivalent pure-Python implementations."
   ]
  },
  {
   "cell_type": "code",
   "execution_count": 4,
   "metadata": {},
   "outputs": [
    {
     "data": {
      "text/markdown": [
       "### Timing comparison of `int` functions with error handling"
      ],
      "text/plain": [
       "<IPython.core.display.Markdown object>"
      ]
     },
     "metadata": {},
     "output_type": "display_data"
    },
    {
     "data": {
      "text/markdown": [
       "Input type|try/except (ms)|regex (ms)|fastnumbers (ms)\n",
       "---|---:|---:|---:\n",
       "Non-number String|306.610 ± 15.120|65.533 ± 4.574|**31.800 ± 2.661**\n",
       "Int String|57.323 ± 1.871|174.989 ± 5.777|**26.233 ± 1.706**\n",
       "Large Int String|74.986 ± 6.237|251.928 ± 23.637|**38.481 ± 1.581**\n",
       "Float String|388.777 ± 35.151|132.290 ± 11.349|**22.959 ± 3.508**\n",
       "Large Float String|368.133 ± 38.748|101.808 ± 4.850|**22.424 ± 1.436**\n",
       "Int|34.597 ± 3.774|211.696 ± 11.107|**17.800 ± 2.528**\n",
       "Float|46.020 ± 2.988|238.819 ± 6.450|**29.072 ± 2.738**"
      ],
      "text/plain": [
       "<IPython.core.display.Markdown object>"
      ]
     },
     "metadata": {},
     "output_type": "display_data"
    }
   ],
   "source": [
    "def int_re(x, int_match=re.compile(r'[-+]?\\d+$').match):\n",
    "    \"\"\"Function to simulate fast_int but with regular expressions.\"\"\"\n",
    "    try:\n",
    "        if int_match(x):\n",
    "            return int(x)\n",
    "        else:\n",
    "            return x\n",
    "    except TypeError:\n",
    "        return int(x)\n",
    "\n",
    "def int_try(x):\n",
    "    \"\"\"Function to simulate fast_int but with try/except.\"\"\"\n",
    "    try:\n",
    "        return int(x)\n",
    "    except ValueError:\n",
    "        return x\n",
    "\n",
    "timer = Timer('Timing comparison of `int` functions with error handling')\n",
    "timer.add_function('int_try', 'try/except', 'from __main__ import int_try')\n",
    "timer.add_function('int_re', 'regex', 'from __main__ import int_re')\n",
    "timer.add_function('fast_int', 'fastnumbers', 'from fastnumbers import fast_int')\n",
    "timer.time_functions()"
   ]
  },
  {
   "cell_type": "code",
   "execution_count": 5,
   "metadata": {},
   "outputs": [
    {
     "data": {
      "text/markdown": [
       "### Timing comparison of `float` functions with error handling"
      ],
      "text/plain": [
       "<IPython.core.display.Markdown object>"
      ]
     },
     "metadata": {},
     "output_type": "display_data"
    },
    {
     "data": {
      "text/markdown": [
       "Input type|try/except (ms)|regex (ms)|fastnumbers (ms)\n",
       "---|---:|---:|---:\n",
       "Non-number String|171.007 ± 12.830|82.048 ± 7.516|**31.797 ± 3.574**\n",
       "Int String|43.924 ± 4.323|170.496 ± 6.504|**22.225 ± 1.587**\n",
       "Large Int String|97.029 ± 7.698|299.396 ± 25.097|**72.344 ± 2.299**\n",
       "Float String|88.048 ± 14.065|314.369 ± 17.788|**31.932 ± 1.355**\n",
       "Large Float String|148.599 ± 9.293|383.095 ± 50.301|**97.033 ± 6.793**\n",
       "Int|30.403 ± 0.228|203.575 ± 4.020|**17.463 ± 2.424**\n",
       "Float|31.551 ± 4.304|193.288 ± 4.533|**15.566 ± 0.738**"
      ],
      "text/plain": [
       "<IPython.core.display.Markdown object>"
      ]
     },
     "metadata": {},
     "output_type": "display_data"
    }
   ],
   "source": [
    "def float_re(x, float_match=re.compile(r'[-+]?\\d*\\.?\\d+(?:[eE][-+]?\\d+)?$').match):\n",
    "    \"\"\"Function to simulate fast_float but with regular expressions.\"\"\"\n",
    "    try:\n",
    "        if float_match(x):\n",
    "            return float(x)\n",
    "        else:\n",
    "            return x\n",
    "    except TypeError:\n",
    "        return float(x)\n",
    "\n",
    "def float_try(x):\n",
    "    \"\"\"Function to simulate fast_float but with try/except.\"\"\"\n",
    "    try:\n",
    "        return float(x)\n",
    "    except ValueError:\n",
    "        return x\n",
    "\n",
    "timer = Timer('Timing comparison of `float` functions with error handling')\n",
    "timer.add_function('float_try', 'try/except', 'from __main__ import float_try')\n",
    "timer.add_function('float_re', 'regex', 'from __main__ import float_re')\n",
    "timer.add_function('fast_float', 'fastnumbers', 'from fastnumbers import fast_float')\n",
    "timer.time_functions()"
   ]
  },
  {
   "cell_type": "code",
   "execution_count": 6,
   "metadata": {},
   "outputs": [
    {
     "data": {
      "text/markdown": [
       "### Timing comparison of `float` (but coerce to `int` if possible) functions with error handling"
      ],
      "text/plain": [
       "<IPython.core.display.Markdown object>"
      ]
     },
     "metadata": {},
     "output_type": "display_data"
    },
    {
     "data": {
      "text/markdown": [
       "Input type|try/except (ms)|regex (ms)|fastnumbers (ms)\n",
       "---|---:|---:|---:\n",
       "Non-number String|174.234 ± 16.831|144.666 ± 22.226|**38.569 ± 1.305**\n",
       "Int String|102.788 ± 12.355|172.778 ± 7.241|**29.357 ± 2.663**\n",
       "Large Int String|186.016 ± 12.993|208.440 ± 16.758|**46.271 ± 10.849**\n",
       "Float String|183.611 ± 39.832|313.941 ± 10.264|**41.157 ± 3.934**\n",
       "Large Float String|228.257 ± 8.647|409.705 ± 35.163|**128.405 ± 7.650**\n",
       "Int|78.695 ± 8.619|216.332 ± 6.986|**17.050 ± 2.046**\n",
       "Float|98.338 ± 8.578|206.912 ± 5.944|**66.213 ± 6.611**"
      ],
      "text/plain": [
       "<IPython.core.display.Markdown object>"
      ]
     },
     "metadata": {},
     "output_type": "display_data"
    }
   ],
   "source": [
    "def real_re(x,\n",
    "            int_match=re.compile(r'[-+]?\\d+$').match,\n",
    "            real_match=re.compile(r'[-+]?\\d*\\.?\\d+(?:[eE][-+]?\\d+)?$').match):\n",
    "    \"\"\"Function to simulate fast_real but with regular expressions.\"\"\"\n",
    "    try:\n",
    "        if int_match(x):\n",
    "            return int(x)\n",
    "        elif real_match(x):\n",
    "            return float(x)\n",
    "        else:\n",
    "            return x\n",
    "    except TypeError:\n",
    "        if type(x) in (float, int):\n",
    "            return x\n",
    "        else:\n",
    "            raise TypeError\n",
    "\n",
    "def real_try(x):\n",
    "    \"\"\"Function to simulate fast_real but with try/except.\"\"\"\n",
    "    try:\n",
    "        a = float(x)\n",
    "    except ValueError:\n",
    "        return x\n",
    "    else:\n",
    "        b = int(a)\n",
    "        return b if a == b else b\n",
    "\n",
    "timer = Timer('Timing comparison of `float` (but coerce to `int` if possible) functions with error handling')\n",
    "timer.add_function('real_try', 'try/except', 'from __main__ import real_try')\n",
    "timer.add_function('real_re', 'regex', 'from __main__ import real_re')\n",
    "timer.add_function('fast_real', 'fastnumbers', 'from fastnumbers import fast_real')\n",
    "timer.time_functions()"
   ]
  },
  {
   "cell_type": "code",
   "execution_count": 7,
   "metadata": {},
   "outputs": [
    {
     "data": {
      "text/markdown": [
       "### Timing comparison of forced `int` functions with error handling"
      ],
      "text/plain": [
       "<IPython.core.display.Markdown object>"
      ]
     },
     "metadata": {},
     "output_type": "display_data"
    },
    {
     "data": {
      "text/markdown": [
       "Input type|try/except (ms)|regex (ms)|fastnumbers (ms)\n",
       "---|---:|---:|---:\n",
       "Non-number String|560.221 ± 47.464|127.134 ± 10.715|**32.451 ± 2.850**\n",
       "Int String|44.128 ± 2.189|154.620 ± 18.279|**27.545 ± 2.340**\n",
       "Large Int String|72.995 ± 4.475|375.822 ± 36.497|**45.901 ± 3.582**\n",
       "Float String|487.252 ± 56.398|431.006 ± 45.451|**39.462 ± 5.209**\n",
       "Large Float String|522.511 ± 13.213|410.493 ± 18.272|**125.913 ± 7.826**\n",
       "Int|32.404 ± 1.096|203.569 ± 6.169|**15.287 ± 0.190**\n",
       "Float|43.754 ± 0.391|257.235 ± 21.026|**32.738 ± 0.891**"
      ],
      "text/plain": [
       "<IPython.core.display.Markdown object>"
      ]
     },
     "metadata": {},
     "output_type": "display_data"
    }
   ],
   "source": [
    "def forceint_re(x,\n",
    "                int_match=re.compile(r'[-+]\\d+$').match,\n",
    "                float_match=re.compile(r'[-+]?\\d*\\.?\\d+(?:[eE][-+]?\\d+)?$').match):\n",
    "    \"\"\"Function to simulate fast_forceint but with regular expressions.\"\"\"\n",
    "    try:\n",
    "        if int_match(x):\n",
    "            return int(x)\n",
    "        elif float_match(x):\n",
    "            return int(float(x))\n",
    "        else:\n",
    "            return x\n",
    "    except TypeError:\n",
    "        return int(x)\n",
    "\n",
    "def forceint_try(x):\n",
    "    \"\"\"Function to simulate fast_forceint but with try/except.\"\"\"\n",
    "    try:\n",
    "        return int(x)\n",
    "    except ValueError:\n",
    "        try:\n",
    "            return int(float(x))\n",
    "        except ValueError:\n",
    "            return x\n",
    "\n",
    "timer = Timer('Timing comparison of forced `int` functions with error handling')\n",
    "timer.add_function('forceint_try', 'try/except', 'from __main__ import forceint_try')\n",
    "timer.add_function('forceint_re', 'regex', 'from __main__ import forceint_re')\n",
    "timer.add_function('fast_forceint', 'fastnumbers', 'from fastnumbers import fast_forceint')\n",
    "timer.time_functions()"
   ]
  },
  {
   "cell_type": "markdown",
   "metadata": {
    "collapsed": true
   },
   "source": [
    "## Checking Functions Timing Results\n",
    "The following timing tests compare the performance of the `fastnumbers` functions that check if an input *could* be converted to numeric type with common equivalent pure-Python implementations."
   ]
  },
  {
   "cell_type": "code",
   "execution_count": 8,
   "metadata": {},
   "outputs": [
    {
     "data": {
      "text/markdown": [
       "### Timing comparison to check if value can be converted to `int`"
      ],
      "text/plain": [
       "<IPython.core.display.Markdown object>"
      ]
     },
     "metadata": {},
     "output_type": "display_data"
    },
    {
     "data": {
      "text/markdown": [
       "Input type|try/except (ms)|regex (ms)|fastnumbers (ms)\n",
       "---|---:|---:|---:\n",
       "Non-number String|361.171 ± 40.095|180.444 ± 14.906|**36.127 ± 1.848**\n",
       "Int String|85.313 ± 6.132|200.590 ± 15.140|**18.310 ± 0.121**\n",
       "Large Int String|92.165 ± 8.389|225.181 ± 38.763|**23.068 ± 0.545**\n",
       "Float String|304.545 ± 15.010|159.231 ± 9.885|**21.160 ± 2.213**\n",
       "Large Float String|339.637 ± 33.684|191.718 ± 2.175|**22.326 ± 2.006**\n",
       "Int|71.059 ± 2.954|64.223 ± 1.758|**18.519 ± 1.927**\n",
       "Float|72.134 ± 7.363|49.557 ± 3.306|**15.739 ± 2.417**"
      ],
      "text/plain": [
       "<IPython.core.display.Markdown object>"
      ]
     },
     "metadata": {},
     "output_type": "display_data"
    }
   ],
   "source": [
    "def isint_re(x, int_match=re.compile(r'[-+]?\\d+$').match):\n",
    "    \"\"\"Function to simulate isint but with regular expressions.\"\"\"\n",
    "    t = type(x)\n",
    "    return t == int if t in (float, int) else bool(int_match(x))\n",
    "\n",
    "def isint_try(x):\n",
    "    \"\"\"Function to simulate isint but with try/except.\"\"\"\n",
    "    try:\n",
    "        int(x)\n",
    "    except ValueError:\n",
    "        return False\n",
    "    else:\n",
    "        return type(x) != float\n",
    "\n",
    "timer = Timer('Timing comparison to check if value can be converted to `int`')\n",
    "timer.add_function('isint_try', 'try/except', 'from __main__ import isint_try')\n",
    "timer.add_function('isint_re', 'regex', 'from __main__ import isint_re')\n",
    "timer.add_function('isint', 'fastnumbers', 'from fastnumbers import isint')\n",
    "timer.time_functions()"
   ]
  },
  {
   "cell_type": "code",
   "execution_count": 9,
   "metadata": {},
   "outputs": [
    {
     "data": {
      "text/markdown": [
       "### Timing comparison to check if value can be converted to `float`"
      ],
      "text/plain": [
       "<IPython.core.display.Markdown object>"
      ]
     },
     "metadata": {},
     "output_type": "display_data"
    },
    {
     "data": {
      "text/markdown": [
       "Input type|try/except (ms)|regex (ms)|fastnumbers (ms)\n",
       "---|---:|---:|---:\n",
       "Non-number String|185.556 ± 10.219|183.455 ± 22.155|**34.445 ± 4.255**\n",
       "Int String|87.071 ± 8.170|188.349 ± 17.396|**24.171 ± 1.196**\n",
       "Large Int String|103.048 ± 6.138|204.514 ± 5.878|**25.006 ± 4.774**\n",
       "Float String|101.549 ± 7.032|194.083 ± 15.804|**25.625 ± 4.614**\n",
       "Large Float String|180.110 ± 15.954|229.581 ± 25.109|**28.541 ± 1.852**\n",
       "Int|79.042 ± 1.392|65.107 ± 5.561|**18.556 ± 1.964**\n",
       "Float|54.582 ± 2.302|55.099 ± 4.466|**19.332 ± 3.137**"
      ],
      "text/plain": [
       "<IPython.core.display.Markdown object>"
      ]
     },
     "metadata": {},
     "output_type": "display_data"
    }
   ],
   "source": [
    "def isfloat_re(x, float_match=re.compile(r'[-+]?\\d*\\.?\\d+(?:[eE][-+]?\\d+)?$').match):\n",
    "    \"\"\"Function to simulate isfloat but with regular expressions.\"\"\"\n",
    "    t = type(x)\n",
    "    return t == float if t in (float, int) else bool(float_match(x))\n",
    "\n",
    "def isfloat_try(x):\n",
    "    \"\"\"Function to simulate isfloat but with try/except.\"\"\"\n",
    "    try:\n",
    "        float(x)\n",
    "    except ValueError:\n",
    "        return False\n",
    "    else:\n",
    "        return type(x) != int\n",
    "\n",
    "timer = Timer('Timing comparison to check if value can be converted to `float`')\n",
    "timer.add_function('isfloat_try', 'try/except', 'from __main__ import isfloat_try')\n",
    "timer.add_function('isfloat_re', 'regex', 'from __main__ import isfloat_re')\n",
    "timer.add_function('isfloat', 'fastnumbers', 'from fastnumbers import isfloat')\n",
    "timer.time_functions()"
   ]
  },
  {
   "cell_type": "code",
   "execution_count": 10,
   "metadata": {},
   "outputs": [
    {
     "data": {
      "text/markdown": [
       "### Timing comparison to check if value can be converted to `float` or `int`"
      ],
      "text/plain": [
       "<IPython.core.display.Markdown object>"
      ]
     },
     "metadata": {},
     "output_type": "display_data"
    },
    {
     "data": {
      "text/markdown": [
       "Input type|try/except (ms)|regex (ms)|fastnumbers (ms)\n",
       "---|---:|---:|---:\n",
       "Non-number String|214.230 ± 24.193|181.822 ± 18.835|**33.603 ± 3.227**\n",
       "Int String|73.229 ± 17.554|199.743 ± 23.166|**22.986 ± 2.665**\n",
       "Large Int String|96.568 ± 9.793|225.804 ± 19.315|**22.273 ± 2.483**\n",
       "Float String|82.286 ± 18.051|192.765 ± 17.354|**30.791 ± 5.810**\n",
       "Large Float String|118.216 ± 7.965|196.539 ± 7.806|**22.497 ± 4.458**\n",
       "Int|42.778 ± 8.550|44.568 ± 2.864|**17.031 ± 3.027**\n",
       "Float|31.371 ± 2.434|41.606 ± 2.312|**16.484 ± 2.091**"
      ],
      "text/plain": [
       "<IPython.core.display.Markdown object>"
      ]
     },
     "metadata": {},
     "output_type": "display_data"
    }
   ],
   "source": [
    "def isreal_re(x, real_match=re.compile(r'[-+]?\\d*\\.?\\d+(?:[eE][-+]?\\d+)?$').match):\n",
    "    \"\"\"Function to simulate isreal but with regular expressions.\"\"\"\n",
    "    return type(x) in (float, int) or bool(real_match(x))\n",
    "\n",
    "def isreal_try(x):\n",
    "    \"\"\"Function to simulate isreal but with try/except.\"\"\"\n",
    "    try:\n",
    "        float(x)\n",
    "    except ValueError:\n",
    "        return False\n",
    "    else:\n",
    "        return True\n",
    "\n",
    "timer = Timer('Timing comparison to check if value can be converted to `float` or `int`')\n",
    "timer.add_function('isreal_try', 'try/except', 'from __main__ import isreal_try')\n",
    "timer.add_function('isreal_re', 'regex', 'from __main__ import isreal_re')\n",
    "timer.add_function('isreal', 'fastnumbers', 'from fastnumbers import isreal')\n",
    "timer.time_functions()"
   ]
  },
  {
   "cell_type": "code",
   "execution_count": 11,
   "metadata": {},
   "outputs": [
    {
     "data": {
      "text/markdown": [
       "### Timing comparison to check if value can be coerced losslessly to `int`"
      ],
      "text/plain": [
       "<IPython.core.display.Markdown object>"
      ]
     },
     "metadata": {},
     "output_type": "display_data"
    },
    {
     "data": {
      "text/markdown": [
       "Input type|try/except (ms)|regex (ms)|fastnumbers (ms)\n",
       "---|---:|---:|---:\n",
       "Non-number String|515.784 ± 46.862|120.094 ± 4.339|**33.689 ± 2.491**\n",
       "Int String|97.011 ± 5.278|92.303 ± 19.097|**18.526 ± 0.104**\n",
       "Large Int String|159.635 ± 12.521|132.939 ± 17.332|**24.887 ± 1.149**\n",
       "Float String|558.477 ± 29.132|380.323 ± 34.313|**19.436 ± 0.105**\n",
       "Large Float String|586.478 ± 127.362|493.231 ± 10.817|**24.632 ± 0.341**\n",
       "Int|77.774 ± 0.909|260.053 ± 31.371|**20.246 ± 3.934**\n",
       "Float|121.280 ± 26.672|280.598 ± 8.459|**43.906 ± 3.013**"
      ],
      "text/plain": [
       "<IPython.core.display.Markdown object>"
      ]
     },
     "metadata": {},
     "output_type": "display_data"
    }
   ],
   "source": [
    "def isintlike_re(x,\n",
    "                 int_match=re.compile(r'[-+]?\\d+$').match,\n",
    "                 float_match=re.compile(r'[-+]?\\d*\\.?\\d+(?:[eE][-+]?\\d+)?$').match):\n",
    "    \"\"\"Function to simulate isintlike but with regular expressions.\"\"\"\n",
    "    try:\n",
    "        if int_match(x):\n",
    "            return True\n",
    "        elif float_match(x):\n",
    "            return float(x).is_integer()\n",
    "        else:\n",
    "            return False\n",
    "    except TypeError:\n",
    "        return int(x) == x\n",
    "\n",
    "def isintlike_try(x):\n",
    "    \"\"\"Function to simulate isintlike but with try/except.\"\"\"\n",
    "    try:\n",
    "        a = int(x)\n",
    "    except ValueError:\n",
    "        try:\n",
    "            a = float(x)\n",
    "        except ValueError:\n",
    "            return False\n",
    "        else:\n",
    "            return a.is_integer()\n",
    "    else:\n",
    "        return a == float(x)\n",
    "\n",
    "timer = Timer('Timing comparison to check if value can be coerced losslessly to `int`')\n",
    "timer.add_function('isintlike_try', 'try/except', 'from __main__ import isintlike_try')\n",
    "timer.add_function('isintlike_re', 'regex', 'from __main__ import isintlike_re')\n",
    "timer.add_function('isintlike', 'fastnumbers', 'from fastnumbers import isintlike')\n",
    "timer.time_functions()"
   ]
  },
  {
   "cell_type": "code",
   "execution_count": null,
   "metadata": {},
   "outputs": [],
   "source": []
  }
 ],
 "metadata": {
  "anaconda-cloud": {},
  "kernelspec": {
   "display_name": "Python 3",
   "language": "python",
   "name": "python3"
  },
  "language_info": {
   "codemirror_mode": {
    "name": "ipython",
    "version": 3
   },
   "file_extension": ".py",
   "mimetype": "text/x-python",
   "name": "python",
   "nbconvert_exporter": "python",
   "pygments_lexer": "ipython3",
   "version": "3.6.5"
  }
 },
 "nbformat": 4,
 "nbformat_minor": 1
}
