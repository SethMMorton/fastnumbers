{
 "cells": [
  {
   "cell_type": "markdown",
   "metadata": {},
   "source": [
    "# Timing Tests of `fastnumbers` Functions Compared to Equivalent Solutions\n",
    "\n",
    "In order for you to see the benefit of `fastnumbers`, some timings are collected below for comparison to equivalent python implementations. The numbers may change depending on the machine you are on or the Python version you are using.\n",
    "\n",
    "Feel free to download this Jupyter Notebook and run the tests yourself to see how `fastnumbers` performs on your machine (it takes about 1-2 minutes total).\n",
    "\n",
    "#### Some notes about the data\n",
    "\n",
    " - Each test is the time it takes for the function to run 100,000 times on a given input.\n",
    " - Each test is repeated either 5 or 100 times, and the mean ± standard deviation is reported.\n",
    " - The fastest time is shown in **bold**\n",
    " - The timing results for the pure-Python functions include about 10-15 ms of \"function call overhead\"; the `fastnumbers` functions do not suffer from as much overhead because they are C-extensions.\n",
    " - Python version-dependent behaviors:\n",
    "   - **Python 2.7** has a particularly slow `int` function, so the `fastnumbers` speedup is much larger on Python 2.7 than Python 3.x\n",
    "   - **Python >=3.6** is slightly slower in general than previous versions because underscores are now allowed in floats and integers which makes parsing take a bit longer due to the extra logic.\n",
    "   \n",
    "#### Notes about the `Timing` class below\n",
    "\n",
    "The timing runner class is implemented below, and this is used in all the tests to perform the actual timing tests in the sections below. In general you can skip this implementation, but of note is the `THINGS_TO_TIME` tuple, which contains the values that are passed to the functions to type the various input types."
   ]
  },
  {
   "cell_type": "code",
   "execution_count": 1,
   "metadata": {
    "collapsed": true
   },
   "outputs": [],
   "source": [
    "from __future__ import print_function, division\n",
    "import re\n",
    "import math\n",
    "import timeit\n",
    "from IPython.display import Markdown, display, clear_output\n",
    "\n",
    "class Timer(object):\n",
    "    \"\"\"Class to time functions and make pretty tables of the output.\"\"\"\n",
    "    \n",
    "    # This is a list of all the things we will time with an associated label.\n",
    "    THINGS_TO_TIME = (\n",
    "        ('not_a_number', 'Non-number String'),\n",
    "        ('-41053', 'Int String'),\n",
    "        ('35892482945872302493947939485729', 'Large Int String'),\n",
    "        ('-41053.543034e34', 'Float String'),\n",
    "        ('-41053.543028758302e256', 'Large Float String'),\n",
    "        (-41053, 'Int'),\n",
    "        (-41053.543028758302e100, 'Float'),\n",
    "    )\n",
    "\n",
    "    # Formatting strings.\n",
    "    FUNCTION_CALL_FMT = '{}({!r})'\n",
    "    \n",
    "    def __init__(self, title):\n",
    "        display(Markdown('### ' + title))\n",
    "        self.functions = []\n",
    "    \n",
    "    def add_function(self, func, label, setup='pass'):\n",
    "        \"\"\"Add a function to be timed and compared.\"\"\"\n",
    "        self.functions.append((func, setup, label))\n",
    "\n",
    "    def time_functions(self, repeat=5):\n",
    "        \"\"\"Time all the given functions against all input then display results.\"\"\"\n",
    "\n",
    "        # Collect the function labels to make the header of this table.\n",
    "        # Show that the units are seconds for each.\n",
    "        function_labels = [label + ' (ms)' for _, _, label in self.functions]\n",
    "        \n",
    "        # Construct the table strings, formatted in Markdown.\n",
    "        # Store each line as a string element in a list.\n",
    "        # This portion here is the table header only for now.\n",
    "        table = Table()\n",
    "        table.add_header('Input type', *function_labels)\n",
    "        \n",
    "        # For each value, time each function and collect the results.\n",
    "        for value, value_label in self.THINGS_TO_TIME:\n",
    "            row = []\n",
    "            for func, setup, _ in self.functions:\n",
    "                call = self.FUNCTION_CALL_FMT.format(func, value)\n",
    "                try:\n",
    "                    row.append(self._timeit(call, setup, repeat))\n",
    "                except (ValueError, TypeError):\n",
    "                    # We might send in some invalid input accidentally.\n",
    "                    # Ignore those inputs.\n",
    "                    break\n",
    "\n",
    "            # Only add this row if the for loop quit without break.\n",
    "            else:\n",
    "                # Convert to milliseconds\n",
    "                row = [(mean * 1000, stddev * 1000) for mean, stddev in row]\n",
    "                # Make the lowest value bold.\n",
    "                min_indx = min(enumerate(row), key=lambda x: x[1])[0]\n",
    "                row = ['{:.3f} ± {:.3f}'.format(*x) for x in row]\n",
    "                row[min_indx] = self.bold(row[min_indx])\n",
    "                table.add_row(value_label, *row)\n",
    "\n",
    "        # Show the results in a table.\n",
    "        display(Markdown(str(table)))\n",
    "\n",
    "    @staticmethod\n",
    "    def mean(x):\n",
    "        return math.fsum(x) / len(x)\n",
    "\n",
    "    @staticmethod\n",
    "    def stddev(x):\n",
    "        mean = Timer.mean(x)\n",
    "        sum_of_squares = math.fsum((v - mean)**2 for v in x)\n",
    "        return math.sqrt(sum_of_squares / (len(x) - 1))\n",
    "\n",
    "    @staticmethod\n",
    "    def bold(x):\n",
    "        return \"**{}**\".format(x)\n",
    "    \n",
    "    def _timeit(self, call, setup, repeat=5):\n",
    "        \"\"\"Perform the actual timing and return a formatted string of the runtime\"\"\"\n",
    "        result = timeit.repeat(call, setup, number=100000, repeat=repeat)\n",
    "        return self.mean(result), self.stddev(result)\n",
    "\n",
    "class Table(list):\n",
    "    \"\"\"List of strings that can be made into a Markdown table.\"\"\"\n",
    "    def add_row(self, *elements):\n",
    "        self.append('|'.join(elements))\n",
    "    def add_header(self, *elements):\n",
    "        self.add_row(*elements)\n",
    "        seperators = ['---'] * len(elements)\n",
    "        seperators = [sep + (':' if i != 0 else '') for i, sep in enumerate(seperators)]\n",
    "        self.add_row(*seperators)\n",
    "    def __str__(self):\n",
    "        return '\\n'.join(self)\n"
   ]
  },
  {
   "cell_type": "markdown",
   "metadata": {},
   "source": [
    "## Built-in Functions Drop-in Replacement Timing Results\n",
    "The following timing tests compare the performance of Python's builtin `int` and `float` functions against the implementations from `fastnumbers` for various input types."
   ]
  },
  {
   "cell_type": "code",
   "execution_count": 2,
   "metadata": {
    "collapsed": false,
    "scrolled": true
   },
   "outputs": [
    {
     "data": {
      "text/markdown": [
       "### Timing comparison of `int` functions"
      ],
      "text/plain": [
       "<IPython.core.display.Markdown object>"
      ]
     },
     "metadata": {},
     "output_type": "display_data"
    },
    {
     "data": {
      "text/markdown": [
       "Input type|builtin (ms)|fastnumbers (ms)\n",
       "---|---:|---:\n",
       "Int String|35.323 ± 9.081|**23.572 ± 7.440**\n",
       "Large Int String|40.238 ± 10.446|**34.712 ± 2.476**\n",
       "Int|15.358 ± 1.650|**14.838 ± 1.456**\n",
       "Float|32.926 ± 2.585|**30.515 ± 2.103**"
      ],
      "text/plain": [
       "<IPython.core.display.Markdown object>"
      ]
     },
     "metadata": {},
     "output_type": "display_data"
    }
   ],
   "source": [
    "timer = Timer('Timing comparison of `int` functions')\n",
    "timer.add_function('int', 'builtin')\n",
    "timer.add_function('int', 'fastnumbers', 'from fastnumbers import int')\n",
    "timer.time_functions(repeat=100)"
   ]
  },
  {
   "cell_type": "code",
   "execution_count": 3,
   "metadata": {
    "collapsed": false
   },
   "outputs": [
    {
     "data": {
      "text/markdown": [
       "### Timing comparison of `float` functions"
      ],
      "text/plain": [
       "<IPython.core.display.Markdown object>"
      ]
     },
     "metadata": {},
     "output_type": "display_data"
    },
    {
     "data": {
      "text/markdown": [
       "Input type|builtin (ms)|fastnumbers (ms)\n",
       "---|---:|---:\n",
       "Int String|22.858 ± 2.604|**19.742 ± 1.307**\n",
       "Large Int String|**57.890 ± 3.036**|77.814 ± 18.424\n",
       "Float String|52.215 ± 5.904|**25.298 ± 5.004**\n",
       "Large Float String|**98.275 ± 14.311**|105.949 ± 25.405\n",
       "Int|22.629 ± 4.934|**19.964 ± 4.926**\n",
       "Float|17.387 ± 3.155|**15.700 ± 4.025**"
      ],
      "text/plain": [
       "<IPython.core.display.Markdown object>"
      ]
     },
     "metadata": {},
     "output_type": "display_data"
    }
   ],
   "source": [
    "timer = Timer('Timing comparison of `float` functions')\n",
    "timer.add_function('float', 'builtin')\n",
    "timer.add_function('float', 'fastnumbers', 'from fastnumbers import float')\n",
    "timer.time_functions(repeat=100)"
   ]
  },
  {
   "cell_type": "markdown",
   "metadata": {},
   "source": [
    "## Error-Handling Conversion Functions Timing Results\n",
    "The following timing tests compare the performance of the `fastnumbers` functions that convert input to numeric types while doing error handling with common equivalent pure-Python implementations."
   ]
  },
  {
   "cell_type": "code",
   "execution_count": 4,
   "metadata": {
    "collapsed": false
   },
   "outputs": [
    {
     "data": {
      "text/markdown": [
       "### Timing comparison of `int` functions with error handling"
      ],
      "text/plain": [
       "<IPython.core.display.Markdown object>"
      ]
     },
     "metadata": {},
     "output_type": "display_data"
    },
    {
     "data": {
      "text/markdown": [
       "Input type|try/except (ms)|regex (ms)|fastnumbers (ms)\n",
       "---|---:|---:|---:\n",
       "Non-number String|288.140 ± 15.103|95.849 ± 22.142|**29.397 ± 7.606**\n",
       "Int String|45.669 ± 7.282|128.812 ± 6.779|**23.549 ± 2.488**\n",
       "Large Int String|46.389 ± 2.725|164.365 ± 29.678|**35.587 ± 4.624**\n",
       "Float String|304.316 ± 39.024|89.097 ± 12.753|**21.455 ± 1.205**\n",
       "Large Float String|304.527 ± 19.778|82.127 ± 2.138|**20.174 ± 2.920**\n",
       "Int|30.321 ± 2.449|193.256 ± 53.063|**17.865 ± 1.575**\n",
       "Float|53.678 ± 4.227|252.511 ± 59.851|**31.799 ± 2.202**"
      ],
      "text/plain": [
       "<IPython.core.display.Markdown object>"
      ]
     },
     "metadata": {},
     "output_type": "display_data"
    }
   ],
   "source": [
    "def int_re(x, int_match=re.compile(r'[-+]?\\d+$').match):\n",
    "    \"\"\"Function to simulate fast_int but with regular expressions.\"\"\"\n",
    "    try:\n",
    "        if int_match(x):\n",
    "            return int(x)\n",
    "        else:\n",
    "            return x\n",
    "    except TypeError:\n",
    "        return int(x)\n",
    "\n",
    "def int_try(x):\n",
    "    \"\"\"Function to simulate fast_int but with try/except.\"\"\"\n",
    "    try:\n",
    "        return int(x)\n",
    "    except ValueError:\n",
    "        return x\n",
    "\n",
    "timer = Timer('Timing comparison of `int` functions with error handling')\n",
    "timer.add_function('int_try', 'try/except', 'from __main__ import int_try')\n",
    "timer.add_function('int_re', 'regex', 'from __main__ import int_re')\n",
    "timer.add_function('fast_int', 'fastnumbers', 'from fastnumbers import fast_int')\n",
    "timer.time_functions()"
   ]
  },
  {
   "cell_type": "code",
   "execution_count": 5,
   "metadata": {
    "collapsed": false
   },
   "outputs": [
    {
     "data": {
      "text/markdown": [
       "### Timing comparison of `float` functions with error handling"
      ],
      "text/plain": [
       "<IPython.core.display.Markdown object>"
      ]
     },
     "metadata": {},
     "output_type": "display_data"
    },
    {
     "data": {
      "text/markdown": [
       "Input type|try/except (ms)|regex (ms)|fastnumbers (ms)\n",
       "---|---:|---:|---:\n",
       "Non-number String|188.898 ± 18.676|73.262 ± 8.006|**18.884 ± 2.835**\n",
       "Int String|38.404 ± 2.995|178.078 ± 48.635|**21.528 ± 2.384**\n",
       "Large Int String|76.017 ± 4.717|254.543 ± 15.861|**70.833 ± 2.167**\n",
       "Float String|106.071 ± 23.522|263.581 ± 49.543|**26.335 ± 1.996**\n",
       "Large Float String|216.434 ± 28.086|390.196 ± 110.809|**162.933 ± 41.173**\n",
       "Int|37.703 ± 4.835|236.041 ± 53.893|**29.308 ± 4.156**\n",
       "Float|31.519 ± 3.201|183.121 ± 14.039|**14.708 ± 0.228**"
      ],
      "text/plain": [
       "<IPython.core.display.Markdown object>"
      ]
     },
     "metadata": {},
     "output_type": "display_data"
    }
   ],
   "source": [
    "def float_re(x, float_match=re.compile(r'[-+]?\\d*\\.?\\d+(?:[eE][-+]?\\d+)?$').match):\n",
    "    \"\"\"Function to simulate fast_float but with regular expressions.\"\"\"\n",
    "    try:\n",
    "        if float_match(x):\n",
    "            return float(x)\n",
    "        else:\n",
    "            return x\n",
    "    except TypeError:\n",
    "        return float(x)\n",
    "\n",
    "def float_try(x):\n",
    "    \"\"\"Function to simulate fast_float but with try/except.\"\"\"\n",
    "    try:\n",
    "        return float(x)\n",
    "    except ValueError:\n",
    "        return x\n",
    "\n",
    "timer = Timer('Timing comparison of `float` functions with error handling')\n",
    "timer.add_function('float_try', 'try/except', 'from __main__ import float_try')\n",
    "timer.add_function('float_re', 'regex', 'from __main__ import float_re')\n",
    "timer.add_function('fast_float', 'fastnumbers', 'from fastnumbers import fast_float')\n",
    "timer.time_functions()"
   ]
  },
  {
   "cell_type": "code",
   "execution_count": 6,
   "metadata": {
    "collapsed": false
   },
   "outputs": [
    {
     "data": {
      "text/markdown": [
       "### Timing comparison of `float` (but coerce to `int` if possible) functions with error handling"
      ],
      "text/plain": [
       "<IPython.core.display.Markdown object>"
      ]
     },
     "metadata": {},
     "output_type": "display_data"
    },
    {
     "data": {
      "text/markdown": [
       "Input type|try/except (ms)|regex (ms)|fastnumbers (ms)\n",
       "---|---:|---:|---:\n",
       "Non-number String|207.852 ± 56.663|149.943 ± 45.688|**18.546 ± 2.607**\n",
       "Int String|89.592 ± 19.490|127.236 ± 22.242|**25.066 ± 3.208**\n",
       "Large Int String|179.318 ± 62.781|199.194 ± 47.163|**45.585 ± 3.892**\n",
       "Float String|174.512 ± 32.356|302.395 ± 13.201|**52.468 ± 15.752**\n",
       "Large Float String|377.553 ± 103.149|484.915 ± 138.740|**168.186 ± 23.018**\n",
       "Int|78.407 ± 16.058|178.766 ± 8.596|**15.973 ± 2.283**\n",
       "Float|105.982 ± 3.780|202.229 ± 17.673|**83.183 ± 5.225**"
      ],
      "text/plain": [
       "<IPython.core.display.Markdown object>"
      ]
     },
     "metadata": {},
     "output_type": "display_data"
    }
   ],
   "source": [
    "def real_re(x,\n",
    "            int_match=re.compile(r'[-+]?\\d+$').match,\n",
    "            real_match=re.compile(r'[-+]?\\d*\\.?\\d+(?:[eE][-+]?\\d+)?$').match):\n",
    "    \"\"\"Function to simulate fast_real but with regular expressions.\"\"\"\n",
    "    try:\n",
    "        if int_match(x):\n",
    "            return int(x)\n",
    "        elif real_match(x):\n",
    "            return float(x)\n",
    "        else:\n",
    "            return x\n",
    "    except TypeError:\n",
    "        if type(x) in (float, int):\n",
    "            return x\n",
    "        else:\n",
    "            raise TypeError\n",
    "\n",
    "def real_try(x):\n",
    "    \"\"\"Function to simulate fast_real but with try/except.\"\"\"\n",
    "    try:\n",
    "        a = float(x)\n",
    "    except ValueError:\n",
    "        return x\n",
    "    else:\n",
    "        b = int(a)\n",
    "        return b if a == b else b\n",
    "\n",
    "timer = Timer('Timing comparison of `float` (but coerce to `int` if possible) functions with error handling')\n",
    "timer.add_function('real_try', 'try/except', 'from __main__ import real_try')\n",
    "timer.add_function('real_re', 'regex', 'from __main__ import real_re')\n",
    "timer.add_function('fast_real', 'fastnumbers', 'from fastnumbers import fast_real')\n",
    "timer.time_functions()"
   ]
  },
  {
   "cell_type": "code",
   "execution_count": 7,
   "metadata": {
    "collapsed": false
   },
   "outputs": [
    {
     "data": {
      "text/markdown": [
       "### Timing comparison of forced `int` functions with error handling"
      ],
      "text/plain": [
       "<IPython.core.display.Markdown object>"
      ]
     },
     "metadata": {},
     "output_type": "display_data"
    },
    {
     "data": {
      "text/markdown": [
       "Input type|try/except (ms)|regex (ms)|fastnumbers (ms)\n",
       "---|---:|---:|---:\n",
       "Non-number String|623.751 ± 99.635|226.865 ± 101.427|**33.186 ± 1.592**\n",
       "Int String|194.545 ± 64.157|319.450 ± 158.132|**69.576 ± 25.294**\n",
       "Large Int String|**64.022 ± 2.892**|782.087 ± 171.279|113.056 ± 71.338\n",
       "Float String|1485.072 ± 297.423|456.711 ± 113.161|**53.187 ± 7.833**\n",
       "Large Float String|593.409 ± 80.863|550.320 ± 135.047|**206.773 ± 37.612**\n",
       "Int|57.952 ± 4.483|224.015 ± 35.008|**29.727 ± 11.793**\n",
       "Float|**68.722 ± 7.373**|286.956 ± 49.755|103.735 ± 28.160"
      ],
      "text/plain": [
       "<IPython.core.display.Markdown object>"
      ]
     },
     "metadata": {},
     "output_type": "display_data"
    }
   ],
   "source": [
    "def forceint_re(x,\n",
    "                int_match=re.compile(r'[-+]\\d+$').match,\n",
    "                float_match=re.compile(r'[-+]?\\d*\\.?\\d+(?:[eE][-+]?\\d+)?$').match):\n",
    "    \"\"\"Function to simulate fast_forceint but with regular expressions.\"\"\"\n",
    "    try:\n",
    "        if int_match(x):\n",
    "            return int(x)\n",
    "        elif float_match(x):\n",
    "            return int(float(x))\n",
    "        else:\n",
    "            return x\n",
    "    except TypeError:\n",
    "        return int(x)\n",
    "\n",
    "def forceint_try(x):\n",
    "    \"\"\"Function to simulate fast_forceint but with try/except.\"\"\"\n",
    "    try:\n",
    "        return int(x)\n",
    "    except ValueError:\n",
    "        try:\n",
    "            return int(float(x))\n",
    "        except ValueError:\n",
    "            return x\n",
    "\n",
    "timer = Timer('Timing comparison of forced `int` functions with error handling')\n",
    "timer.add_function('forceint_try', 'try/except', 'from __main__ import forceint_try')\n",
    "timer.add_function('forceint_re', 'regex', 'from __main__ import forceint_re')\n",
    "timer.add_function('fast_forceint', 'fastnumbers', 'from fastnumbers import fast_forceint')\n",
    "timer.time_functions()"
   ]
  },
  {
   "cell_type": "code",
   "execution_count": null,
   "metadata": {
    "collapsed": true
   },
   "outputs": [],
   "source": [
    "## Checking Functions Timing Results\n",
    "The following timing tests compare the performance of the `fastnumbers` functions that check if an input *could* be converted to numeric type with common equivalent pure-Python implementations."
   ]
  },
  {
   "cell_type": "code",
   "execution_count": 8,
   "metadata": {
    "collapsed": false
   },
   "outputs": [
    {
     "data": {
      "text/markdown": [
       "### Timing comparison to check if value can be converted to `int`"
      ],
      "text/plain": [
       "<IPython.core.display.Markdown object>"
      ]
     },
     "metadata": {},
     "output_type": "display_data"
    },
    {
     "data": {
      "text/markdown": [
       "Input type|try/except (ms)|regex (ms)|fastnumbers (ms)\n",
       "---|---:|---:|---:\n",
       "Non-number String|1085.031 ± 254.837|522.500 ± 76.186|**69.979 ± 45.260**\n",
       "Int String|219.463 ± 63.626|333.195 ± 112.811|**20.506 ± 2.018**\n",
       "Large Int String|97.451 ± 32.370|218.346 ± 56.408|**31.865 ± 2.791**\n",
       "Float String|346.459 ± 36.978|152.887 ± 19.076|**20.490 ± 0.426**\n",
       "Large Float String|322.876 ± 42.671|149.253 ± 17.148|**23.705 ± 3.178**\n",
       "Int|71.525 ± 18.842|52.629 ± 11.202|**21.195 ± 1.710**\n",
       "Float|74.726 ± 5.848|47.925 ± 1.233|**16.673 ± 2.041**"
      ],
      "text/plain": [
       "<IPython.core.display.Markdown object>"
      ]
     },
     "metadata": {},
     "output_type": "display_data"
    }
   ],
   "source": [
    "def isint_re(x, int_match=re.compile(r'[-+]?\\d+$').match):\n",
    "    \"\"\"Function to simulate isint but with regular expressions.\"\"\"\n",
    "    t = type(x)\n",
    "    return t == int if t in (float, int) else bool(int_match(x))\n",
    "\n",
    "def isint_try(x):\n",
    "    \"\"\"Function to simulate isint but with try/except.\"\"\"\n",
    "    try:\n",
    "        int(x)\n",
    "    except ValueError:\n",
    "        return False\n",
    "    else:\n",
    "        return type(x) != float\n",
    "\n",
    "timer = Timer('Timing comparison to check if value can be converted to `int`')\n",
    "timer.add_function('isint_try', 'try/except', 'from __main__ import isint_try')\n",
    "timer.add_function('isint_re', 'regex', 'from __main__ import isint_re')\n",
    "timer.add_function('isint', 'fastnumbers', 'from fastnumbers import isint')\n",
    "timer.time_functions()"
   ]
  },
  {
   "cell_type": "code",
   "execution_count": 9,
   "metadata": {
    "collapsed": false
   },
   "outputs": [
    {
     "data": {
      "text/markdown": [
       "### Timing comparison to check if value can be converted to `float`"
      ],
      "text/plain": [
       "<IPython.core.display.Markdown object>"
      ]
     },
     "metadata": {},
     "output_type": "display_data"
    },
    {
     "data": {
      "text/markdown": [
       "Input type|try/except (ms)|regex (ms)|fastnumbers (ms)\n",
       "---|---:|---:|---:\n",
       "Non-number String|182.210 ± 20.122|133.694 ± 20.650|**25.168 ± 7.070**\n",
       "Int String|64.257 ± 9.972|164.439 ± 7.438|**20.164 ± 2.501**\n",
       "Large Int String|136.765 ± 36.040|241.040 ± 63.798|**22.109 ± 0.541**\n",
       "Float String|141.777 ± 30.698|202.393 ± 34.116|**23.061 ± 1.878**\n",
       "Large Float String|171.151 ± 25.088|229.452 ± 30.970|**22.998 ± 1.441**\n",
       "Int|69.957 ± 13.344|57.172 ± 3.851|**19.001 ± 3.021**\n",
       "Float|66.538 ± 11.738|45.700 ± 2.240|**16.773 ± 2.202**"
      ],
      "text/plain": [
       "<IPython.core.display.Markdown object>"
      ]
     },
     "metadata": {},
     "output_type": "display_data"
    }
   ],
   "source": [
    "def isfloat_re(x, float_match=re.compile(r'[-+]?\\d*\\.?\\d+(?:[eE][-+]?\\d+)?$').match):\n",
    "    \"\"\"Function to simulate isfloat but with regular expressions.\"\"\"\n",
    "    t = type(x)\n",
    "    return t == float if t in (float, int) else bool(float_match(x))\n",
    "\n",
    "def isfloat_try(x):\n",
    "    \"\"\"Function to simulate isfloat but with try/except.\"\"\"\n",
    "    try:\n",
    "        float(x)\n",
    "    except ValueError:\n",
    "        return False\n",
    "    else:\n",
    "        return type(x) != int\n",
    "\n",
    "timer = Timer('Timing comparison to check if value can be converted to `float`')\n",
    "timer.add_function('isfloat_try', 'try/except', 'from __main__ import isfloat_try')\n",
    "timer.add_function('isfloat_re', 'regex', 'from __main__ import isfloat_re')\n",
    "timer.add_function('isfloat', 'fastnumbers', 'from fastnumbers import isfloat')\n",
    "timer.time_functions()"
   ]
  },
  {
   "cell_type": "code",
   "execution_count": 10,
   "metadata": {
    "collapsed": false
   },
   "outputs": [
    {
     "data": {
      "text/markdown": [
       "### Timing comparison to check if value can be converted to `float` or `int`"
      ],
      "text/plain": [
       "<IPython.core.display.Markdown object>"
      ]
     },
     "metadata": {},
     "output_type": "display_data"
    },
    {
     "data": {
      "text/markdown": [
       "Input type|try/except (ms)|regex (ms)|fastnumbers (ms)\n",
       "---|---:|---:|---:\n",
       "Non-number String|174.858 ± 14.229|138.049 ± 20.184|**18.950 ± 2.466**\n",
       "Int String|47.278 ± 17.332|241.620 ± 28.273|**35.022 ± 11.416**\n",
       "Large Int String|99.399 ± 32.419|206.508 ± 13.849|**23.211 ± 1.486**\n",
       "Float String|93.225 ± 21.947|248.304 ± 51.405|**37.939 ± 12.305**\n",
       "Large Float String|135.025 ± 21.534|206.936 ± 20.956|**38.715 ± 7.300**\n",
       "Int|38.894 ± 3.122|42.918 ± 5.559|**13.829 ± 0.503**\n",
       "Float|30.978 ± 4.206|38.609 ± 2.707|**14.455 ± 0.931**"
      ],
      "text/plain": [
       "<IPython.core.display.Markdown object>"
      ]
     },
     "metadata": {},
     "output_type": "display_data"
    }
   ],
   "source": [
    "def isreal_re(x, real_match=re.compile(r'[-+]?\\d*\\.?\\d+(?:[eE][-+]?\\d+)?$').match):\n",
    "    \"\"\"Function to simulate isreal but with regular expressions.\"\"\"\n",
    "    return type(x) in (float, int) or bool(real_match(x))\n",
    "\n",
    "def isreal_try(x):\n",
    "    \"\"\"Function to simulate isreal but with try/except.\"\"\"\n",
    "    try:\n",
    "        float(x)\n",
    "    except ValueError:\n",
    "        return False\n",
    "    else:\n",
    "        return True\n",
    "\n",
    "timer = Timer('Timing comparison to check if value can be converted to `float` or `int`')\n",
    "timer.add_function('isreal_try', 'try/except', 'from __main__ import isreal_try')\n",
    "timer.add_function('isreal_re', 'regex', 'from __main__ import isreal_re')\n",
    "timer.add_function('isreal', 'fastnumbers', 'from fastnumbers import isreal')\n",
    "timer.time_functions()"
   ]
  },
  {
   "cell_type": "code",
   "execution_count": 11,
   "metadata": {
    "collapsed": false
   },
   "outputs": [
    {
     "data": {
      "text/markdown": [
       "### Timing comparison to check if value can be coerced losslessly to `int`"
      ],
      "text/plain": [
       "<IPython.core.display.Markdown object>"
      ]
     },
     "metadata": {},
     "output_type": "display_data"
    },
    {
     "data": {
      "text/markdown": [
       "Input type|try/except (ms)|regex (ms)|fastnumbers (ms)\n",
       "---|---:|---:|---:\n",
       "Non-number String|507.209 ± 57.752|136.108 ± 32.232|**18.035 ± 0.499**\n",
       "Int String|90.153 ± 4.045|76.587 ± 2.458|**17.534 ± 1.329**\n",
       "Large Int String|153.295 ± 5.119|115.146 ± 4.310|**21.307 ± 0.250**\n",
       "Float String|464.332 ± 34.784|437.892 ± 115.270|**21.303 ± 2.797**\n",
       "Large Float String|671.698 ± 95.556|566.724 ± 150.177|**43.428 ± 6.251**\n",
       "Int|83.071 ± 15.900|195.620 ± 11.114|**15.590 ± 2.398**\n",
       "Float|120.014 ± 21.239|275.652 ± 34.122|**59.772 ± 10.166**"
      ],
      "text/plain": [
       "<IPython.core.display.Markdown object>"
      ]
     },
     "metadata": {},
     "output_type": "display_data"
    }
   ],
   "source": [
    "def isintlike_re(x,\n",
    "                 int_match=re.compile(r'[-+]?\\d+$').match,\n",
    "                 float_match=re.compile(r'[-+]?\\d*\\.?\\d+(?:[eE][-+]?\\d+)?$').match):\n",
    "    \"\"\"Function to simulate isintlike but with regular expressions.\"\"\"\n",
    "    try:\n",
    "        if int_match(x):\n",
    "            return True\n",
    "        elif float_match(x):\n",
    "            return float(x).is_integer()\n",
    "        else:\n",
    "            return False\n",
    "    except TypeError:\n",
    "        return int(x) == x\n",
    "\n",
    "def isintlike_try(x):\n",
    "    \"\"\"Function to simulate isintlike but with try/except.\"\"\"\n",
    "    try:\n",
    "        a = int(x)\n",
    "    except ValueError:\n",
    "        try:\n",
    "            a = float(x)\n",
    "        except ValueError:\n",
    "            return False\n",
    "        else:\n",
    "            return a.is_integer()\n",
    "    else:\n",
    "        return a == float(x)\n",
    "\n",
    "timer = Timer('Timing comparison to check if value can be coerced losslessly to `int`')\n",
    "timer.add_function('isintlike_try', 'try/except', 'from __main__ import isintlike_try')\n",
    "timer.add_function('isintlike_re', 'regex', 'from __main__ import isintlike_re')\n",
    "timer.add_function('isintlike', 'fastnumbers', 'from fastnumbers import isintlike')\n",
    "timer.time_functions()"
   ]
  },
  {
   "cell_type": "code",
   "execution_count": null,
   "metadata": {
    "collapsed": true
   },
   "outputs": [],
   "source": []
  }
 ],
 "metadata": {
  "anaconda-cloud": {},
  "kernelspec": {
   "display_name": "Python [conda root]",
   "language": "python",
   "name": "conda-root-py"
  },
  "language_info": {
   "codemirror_mode": {
    "name": "ipython",
    "version": 3
   },
   "file_extension": ".py",
   "mimetype": "text/x-python",
   "name": "python",
   "nbconvert_exporter": "python",
   "pygments_lexer": "ipython3",
   "version": "3.5.2"
  }
 },
 "nbformat": 4,
 "nbformat_minor": 1
}
